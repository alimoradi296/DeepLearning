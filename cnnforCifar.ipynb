{
  "nbformat": 4,
  "nbformat_minor": 0,
  "metadata": {
    "colab": {
      "provenance": [],
      "toc_visible": true,
      "authorship_tag": "ABX9TyOFKqPmiTz80nExbMKG/H3Z",
      "include_colab_link": true
    },
    "kernelspec": {
      "name": "python3",
      "display_name": "Python 3"
    },
    "language_info": {
      "name": "python"
    },
    "accelerator": "GPU",
    "gpuClass": "standard"
  },
  "cells": [
    {
      "cell_type": "markdown",
      "metadata": {
        "id": "view-in-github",
        "colab_type": "text"
      },
      "source": [
        "<a href=\"https://colab.research.google.com/github/alimoradi296/DeepLearning/blob/main/cnnforCifar.ipynb\" target=\"_parent\"><img src=\"https://colab.research.google.com/assets/colab-badge.svg\" alt=\"Open In Colab\"/></a>"
      ]
    },
    {
      "cell_type": "code",
      "source": [
        "#Problem Statemement"
      ],
      "metadata": {
        "id": "E3uFkXf1Yhc4"
      },
      "execution_count": null,
      "outputs": []
    },
    {
      "cell_type": "markdown",
      "source": [
        "#Problem Statemement\n",
        "\n",
        "*   CIFAR-10\n",
        "\n",
        "> The CIFAR-10 dataset consists of 60000 32x32 colour images in 10 classes, with 6000 images per class. There are 50000 training images and 10000 test images. its classes:\n",
        "\n",
        "    Airplanes\n",
        "    Cars\n",
        "    Birds\n",
        "    Cats\n",
        "    Deer\n",
        "    Dogs\n",
        "    Frogs\n",
        "    Horses\n",
        "    Ships\n",
        "    Trucks\n",
        "\n",
        "\n",
        "\n"
      ],
      "metadata": {
        "id": "jSCwWH_9YxdC"
      }
    },
    {
      "cell_type": "markdown",
      "source": [
        "\n",
        "#IMPORT LIBRARIES\n"
      ],
      "metadata": {
        "id": "wCKdbj6BYh0e"
      }
    },
    {
      "cell_type": "code",
      "execution_count": null,
      "metadata": {
        "colab": {
          "base_uri": "https://localhost:8080/"
        },
        "id": "81EwZzb-YZla",
        "outputId": "d67bb8b9-5dd6-44e1-a875-eb2b984c5b23"
      },
      "outputs": [
        {
          "output_type": "stream",
          "name": "stdout",
          "text": [
            "Mounted at /content/drive\n"
          ]
        }
      ],
      "source": [
        "from google.colab import  drive\n",
        "drive.mount('/content/drive')"
      ]
    },
    {
      "cell_type": "code",
      "source": [
        "!pip install tensorflow-gpu"
      ],
      "metadata": {
        "colab": {
          "base_uri": "https://localhost:8080/"
        },
        "id": "ZQNAphLtZaVb",
        "outputId": "9fcc003f-4f91-4645-a9bd-053aca464e33"
      },
      "execution_count": null,
      "outputs": [
        {
          "output_type": "stream",
          "name": "stdout",
          "text": [
            "Looking in indexes: https://pypi.org/simple, https://us-python.pkg.dev/colab-wheels/public/simple/\n",
            "Collecting tensorflow-gpu\n",
            "  Downloading tensorflow_gpu-2.11.0-cp38-cp38-manylinux_2_17_x86_64.manylinux2014_x86_64.whl (588.3 MB)\n",
            "\u001b[2K     \u001b[90m━━━━━━━━━━━━━━━━━━━━━━━━━━━━━━━━━━━━━━━\u001b[0m \u001b[32m588.3/588.3 MB\u001b[0m \u001b[31m2.6 MB/s\u001b[0m eta \u001b[36m0:00:00\u001b[0m\n",
            "\u001b[?25hRequirement already satisfied: tensorflow-io-gcs-filesystem>=0.23.1 in /usr/local/lib/python3.8/dist-packages (from tensorflow-gpu) (0.29.0)\n",
            "Collecting tensorflow-estimator<2.12,>=2.11.0\n",
            "  Downloading tensorflow_estimator-2.11.0-py2.py3-none-any.whl (439 kB)\n",
            "\u001b[2K     \u001b[90m━━━━━━━━━━━━━━━━━━━━━━━━━━━━━━━━━━━━━━\u001b[0m \u001b[32m439.2/439.2 KB\u001b[0m \u001b[31m38.4 MB/s\u001b[0m eta \u001b[36m0:00:00\u001b[0m\n",
            "\u001b[?25hRequirement already satisfied: astunparse>=1.6.0 in /usr/local/lib/python3.8/dist-packages (from tensorflow-gpu) (1.6.3)\n",
            "Requirement already satisfied: opt-einsum>=2.3.2 in /usr/local/lib/python3.8/dist-packages (from tensorflow-gpu) (3.3.0)\n",
            "Requirement already satisfied: wrapt>=1.11.0 in /usr/local/lib/python3.8/dist-packages (from tensorflow-gpu) (1.14.1)\n",
            "Requirement already satisfied: grpcio<2.0,>=1.24.3 in /usr/local/lib/python3.8/dist-packages (from tensorflow-gpu) (1.51.1)\n",
            "Requirement already satisfied: google-pasta>=0.1.1 in /usr/local/lib/python3.8/dist-packages (from tensorflow-gpu) (0.2.0)\n",
            "Collecting flatbuffers>=2.0\n",
            "  Downloading flatbuffers-22.12.6-py2.py3-none-any.whl (26 kB)\n",
            "Requirement already satisfied: absl-py>=1.0.0 in /usr/local/lib/python3.8/dist-packages (from tensorflow-gpu) (1.3.0)\n",
            "Requirement already satisfied: typing-extensions>=3.6.6 in /usr/local/lib/python3.8/dist-packages (from tensorflow-gpu) (4.4.0)\n",
            "Requirement already satisfied: termcolor>=1.1.0 in /usr/local/lib/python3.8/dist-packages (from tensorflow-gpu) (2.1.1)\n",
            "Requirement already satisfied: libclang>=13.0.0 in /usr/local/lib/python3.8/dist-packages (from tensorflow-gpu) (14.0.6)\n",
            "Requirement already satisfied: h5py>=2.9.0 in /usr/local/lib/python3.8/dist-packages (from tensorflow-gpu) (3.1.0)\n",
            "Collecting keras<2.12,>=2.11.0\n",
            "  Downloading keras-2.11.0-py2.py3-none-any.whl (1.7 MB)\n",
            "\u001b[2K     \u001b[90m━━━━━━━━━━━━━━━━━━━━━━━━━━━━━━━━━━━━━━━━\u001b[0m \u001b[32m1.7/1.7 MB\u001b[0m \u001b[31m42.6 MB/s\u001b[0m eta \u001b[36m0:00:00\u001b[0m\n",
            "\u001b[?25hRequirement already satisfied: packaging in /usr/local/lib/python3.8/dist-packages (from tensorflow-gpu) (21.3)\n",
            "Requirement already satisfied: numpy>=1.20 in /usr/local/lib/python3.8/dist-packages (from tensorflow-gpu) (1.21.6)\n",
            "Requirement already satisfied: six>=1.12.0 in /usr/local/lib/python3.8/dist-packages (from tensorflow-gpu) (1.15.0)\n",
            "Requirement already satisfied: gast<=0.4.0,>=0.2.1 in /usr/local/lib/python3.8/dist-packages (from tensorflow-gpu) (0.4.0)\n",
            "Collecting tensorboard<2.12,>=2.11\n",
            "  Downloading tensorboard-2.11.0-py3-none-any.whl (6.0 MB)\n",
            "\u001b[2K     \u001b[90m━━━━━━━━━━━━━━━━━━━━━━━━━━━━━━━━━━━━━━━━\u001b[0m \u001b[32m6.0/6.0 MB\u001b[0m \u001b[31m78.7 MB/s\u001b[0m eta \u001b[36m0:00:00\u001b[0m\n",
            "\u001b[?25hRequirement already satisfied: protobuf<3.20,>=3.9.2 in /usr/local/lib/python3.8/dist-packages (from tensorflow-gpu) (3.19.6)\n",
            "Requirement already satisfied: setuptools in /usr/local/lib/python3.8/dist-packages (from tensorflow-gpu) (57.4.0)\n",
            "Requirement already satisfied: wheel<1.0,>=0.23.0 in /usr/local/lib/python3.8/dist-packages (from astunparse>=1.6.0->tensorflow-gpu) (0.38.4)\n",
            "Requirement already satisfied: google-auth-oauthlib<0.5,>=0.4.1 in /usr/local/lib/python3.8/dist-packages (from tensorboard<2.12,>=2.11->tensorflow-gpu) (0.4.6)\n",
            "Requirement already satisfied: werkzeug>=1.0.1 in /usr/local/lib/python3.8/dist-packages (from tensorboard<2.12,>=2.11->tensorflow-gpu) (1.0.1)\n",
            "Requirement already satisfied: tensorboard-plugin-wit>=1.6.0 in /usr/local/lib/python3.8/dist-packages (from tensorboard<2.12,>=2.11->tensorflow-gpu) (1.8.1)\n",
            "Requirement already satisfied: google-auth<3,>=1.6.3 in /usr/local/lib/python3.8/dist-packages (from tensorboard<2.12,>=2.11->tensorflow-gpu) (2.15.0)\n",
            "Requirement already satisfied: markdown>=2.6.8 in /usr/local/lib/python3.8/dist-packages (from tensorboard<2.12,>=2.11->tensorflow-gpu) (3.4.1)\n",
            "Requirement already satisfied: requests<3,>=2.21.0 in /usr/local/lib/python3.8/dist-packages (from tensorboard<2.12,>=2.11->tensorflow-gpu) (2.25.1)\n",
            "Requirement already satisfied: tensorboard-data-server<0.7.0,>=0.6.0 in /usr/local/lib/python3.8/dist-packages (from tensorboard<2.12,>=2.11->tensorflow-gpu) (0.6.1)\n",
            "Requirement already satisfied: pyparsing!=3.0.5,>=2.0.2 in /usr/local/lib/python3.8/dist-packages (from packaging->tensorflow-gpu) (3.0.9)\n",
            "Requirement already satisfied: pyasn1-modules>=0.2.1 in /usr/local/lib/python3.8/dist-packages (from google-auth<3,>=1.6.3->tensorboard<2.12,>=2.11->tensorflow-gpu) (0.2.8)\n",
            "Requirement already satisfied: cachetools<6.0,>=2.0.0 in /usr/local/lib/python3.8/dist-packages (from google-auth<3,>=1.6.3->tensorboard<2.12,>=2.11->tensorflow-gpu) (5.2.0)\n",
            "Requirement already satisfied: rsa<5,>=3.1.4 in /usr/local/lib/python3.8/dist-packages (from google-auth<3,>=1.6.3->tensorboard<2.12,>=2.11->tensorflow-gpu) (4.9)\n",
            "Requirement already satisfied: requests-oauthlib>=0.7.0 in /usr/local/lib/python3.8/dist-packages (from google-auth-oauthlib<0.5,>=0.4.1->tensorboard<2.12,>=2.11->tensorflow-gpu) (1.3.1)\n",
            "Requirement already satisfied: importlib-metadata>=4.4 in /usr/local/lib/python3.8/dist-packages (from markdown>=2.6.8->tensorboard<2.12,>=2.11->tensorflow-gpu) (5.2.0)\n",
            "Requirement already satisfied: urllib3<1.27,>=1.21.1 in /usr/local/lib/python3.8/dist-packages (from requests<3,>=2.21.0->tensorboard<2.12,>=2.11->tensorflow-gpu) (1.24.3)\n",
            "Requirement already satisfied: chardet<5,>=3.0.2 in /usr/local/lib/python3.8/dist-packages (from requests<3,>=2.21.0->tensorboard<2.12,>=2.11->tensorflow-gpu) (4.0.0)\n",
            "Requirement already satisfied: certifi>=2017.4.17 in /usr/local/lib/python3.8/dist-packages (from requests<3,>=2.21.0->tensorboard<2.12,>=2.11->tensorflow-gpu) (2022.12.7)\n",
            "Requirement already satisfied: idna<3,>=2.5 in /usr/local/lib/python3.8/dist-packages (from requests<3,>=2.21.0->tensorboard<2.12,>=2.11->tensorflow-gpu) (2.10)\n",
            "Requirement already satisfied: zipp>=0.5 in /usr/local/lib/python3.8/dist-packages (from importlib-metadata>=4.4->markdown>=2.6.8->tensorboard<2.12,>=2.11->tensorflow-gpu) (3.11.0)\n",
            "Requirement already satisfied: pyasn1<0.5.0,>=0.4.6 in /usr/local/lib/python3.8/dist-packages (from pyasn1-modules>=0.2.1->google-auth<3,>=1.6.3->tensorboard<2.12,>=2.11->tensorflow-gpu) (0.4.8)\n",
            "Requirement already satisfied: oauthlib>=3.0.0 in /usr/local/lib/python3.8/dist-packages (from requests-oauthlib>=0.7.0->google-auth-oauthlib<0.5,>=0.4.1->tensorboard<2.12,>=2.11->tensorflow-gpu) (3.2.2)\n",
            "Installing collected packages: flatbuffers, tensorflow-estimator, keras, tensorboard, tensorflow-gpu\n",
            "  Attempting uninstall: flatbuffers\n",
            "    Found existing installation: flatbuffers 1.12\n",
            "    Uninstalling flatbuffers-1.12:\n",
            "      Successfully uninstalled flatbuffers-1.12\n",
            "  Attempting uninstall: tensorflow-estimator\n",
            "    Found existing installation: tensorflow-estimator 2.9.0\n",
            "    Uninstalling tensorflow-estimator-2.9.0:\n",
            "      Successfully uninstalled tensorflow-estimator-2.9.0\n",
            "  Attempting uninstall: keras\n",
            "    Found existing installation: keras 2.9.0\n",
            "    Uninstalling keras-2.9.0:\n",
            "      Successfully uninstalled keras-2.9.0\n",
            "  Attempting uninstall: tensorboard\n",
            "    Found existing installation: tensorboard 2.9.1\n",
            "    Uninstalling tensorboard-2.9.1:\n",
            "      Successfully uninstalled tensorboard-2.9.1\n",
            "\u001b[31mERROR: pip's dependency resolver does not currently take into account all the packages that are installed. This behaviour is the source of the following dependency conflicts.\n",
            "tensorflow 2.9.2 requires flatbuffers<2,>=1.12, but you have flatbuffers 22.12.6 which is incompatible.\n",
            "tensorflow 2.9.2 requires keras<2.10.0,>=2.9.0rc0, but you have keras 2.11.0 which is incompatible.\n",
            "tensorflow 2.9.2 requires tensorboard<2.10,>=2.9, but you have tensorboard 2.11.0 which is incompatible.\n",
            "tensorflow 2.9.2 requires tensorflow-estimator<2.10.0,>=2.9.0rc0, but you have tensorflow-estimator 2.11.0 which is incompatible.\u001b[0m\u001b[31m\n",
            "\u001b[0mSuccessfully installed flatbuffers-22.12.6 keras-2.11.0 tensorboard-2.11.0 tensorflow-estimator-2.11.0 tensorflow-gpu-2.11.0\n"
          ]
        }
      ]
    },
    {
      "cell_type": "code",
      "source": [
        "import numpy as np\n",
        "import datetime\n",
        "import tensorflow as tf\n",
        "\n",
        "import pandas as pd\n",
        "import numpy as np\n",
        "import matplotlib.pyplot as plt\n",
        "import seaborn as sns\n",
        "import random"
      ],
      "metadata": {
        "id": "Gxz_hyUFaV8p"
      },
      "execution_count": null,
      "outputs": []
    },
    {
      "cell_type": "code",
      "source": [
        "tf.__version__"
      ],
      "metadata": {
        "colab": {
          "base_uri": "https://localhost:8080/",
          "height": 35
        },
        "id": "ZxLlA1PYaxal",
        "outputId": "ec3a2ec4-9f71-4c83-ac9d-b0c073692812"
      },
      "execution_count": null,
      "outputs": [
        {
          "output_type": "execute_result",
          "data": {
            "text/plain": [
              "'2.9.2'"
            ],
            "application/vnd.google.colaboratory.intrinsic+json": {
              "type": "string"
            }
          },
          "metadata": {},
          "execution_count": 3
        }
      ]
    },
    {
      "cell_type": "markdown",
      "source": [
        "#LOAD DATASET"
      ],
      "metadata": {
        "id": "LGp3HPFea-kk"
      }
    },
    {
      "cell_type": "code",
      "source": [
        "(X_train,y_train),(X_test,y_test)=tf.keras.datasets.cifar10.load_data()"
      ],
      "metadata": {
        "id": "eJzpE18Ca34r"
      },
      "execution_count": null,
      "outputs": []
    },
    {
      "cell_type": "code",
      "source": [
        "X_train.shape"
      ],
      "metadata": {
        "colab": {
          "base_uri": "https://localhost:8080/"
        },
        "id": "R5m8BdYubUTr",
        "outputId": "f63009ed-dcc0-41eb-8441-82496e0062db"
      },
      "execution_count": null,
      "outputs": [
        {
          "output_type": "execute_result",
          "data": {
            "text/plain": [
              "(50000, 32, 32, 3)"
            ]
          },
          "metadata": {},
          "execution_count": 5
        }
      ]
    },
    {
      "cell_type": "code",
      "source": [
        "y_train.shape"
      ],
      "metadata": {
        "colab": {
          "base_uri": "https://localhost:8080/"
        },
        "id": "__XJ2bjHfNar",
        "outputId": "79ab19a1-552f-43b2-f092-fb63dc9c9e8c"
      },
      "execution_count": null,
      "outputs": [
        {
          "output_type": "execute_result",
          "data": {
            "text/plain": [
              "(50000, 1)"
            ]
          },
          "metadata": {},
          "execution_count": 6
        }
      ]
    },
    {
      "cell_type": "code",
      "source": [
        "X_test.shape"
      ],
      "metadata": {
        "colab": {
          "base_uri": "https://localhost:8080/"
        },
        "id": "4E-Ueb-TfOpX",
        "outputId": "9abc0fd4-46f4-4d0f-d534-5a21334a6902"
      },
      "execution_count": null,
      "outputs": [
        {
          "output_type": "execute_result",
          "data": {
            "text/plain": [
              "(10000, 32, 32, 3)"
            ]
          },
          "metadata": {},
          "execution_count": 7
        }
      ]
    },
    {
      "cell_type": "code",
      "source": [
        "y_test.shape"
      ],
      "metadata": {
        "colab": {
          "base_uri": "https://localhost:8080/"
        },
        "id": "-k6j7lhpfSkE",
        "outputId": "f3ac2c6f-9cc3-4b01-9e05-892f1a9307b0"
      },
      "execution_count": null,
      "outputs": [
        {
          "output_type": "execute_result",
          "data": {
            "text/plain": [
              "(10000, 1)"
            ]
          },
          "metadata": {},
          "execution_count": 8
        }
      ]
    },
    {
      "cell_type": "markdown",
      "source": [
        "#DATA VISUALIZATION"
      ],
      "metadata": {
        "id": "XvU0-KSAfW1G"
      }
    },
    {
      "cell_type": "code",
      "source": [
        "image=800\n",
        "plt.imshow(X_train[image])\n",
        "print(y_train[image])"
      ],
      "metadata": {
        "colab": {
          "base_uri": "https://localhost:8080/",
          "height": 283
        },
        "id": "2pIERxHsfT1D",
        "outputId": "dc5343d1-760d-4b97-fa38-004b419b9a57"
      },
      "execution_count": null,
      "outputs": [
        {
          "output_type": "stream",
          "name": "stdout",
          "text": [
            "[2]\n"
          ]
        },
        {
          "output_type": "display_data",
          "data": {
            "text/plain": [
              "<Figure size 432x288 with 1 Axes>"
            ],
            "image/png": "[encoded data removed]"
          },
          "metadata": {
            "needs_background": "light"
          }
        }
      ]
    },
    {
      "cell_type": "code",
      "source": [
        "\n",
        "def show_random_images(L_grid,W_grid,X_train,y_train,y_pred):\n",
        "  fig,axes=plt.subplots(L_grid,W_grid,figsize=(15,15))\n",
        "  axes=axes.ravel()\n",
        "\n",
        "  n_training=len(X_train)\n",
        "\n",
        "  for i in np.arange(0,L_grid*W_grid):\n",
        "    index=np.random.randint(0,n_training)\n",
        "    axes[i].imshow(X_train[index])\n",
        "    axes[i].set_title(f'real class:{y_train[index]}/n Predcited Class:{y_pred[index]}')\n",
        "    axes[i].axis('off')\n",
        "  plt.subplots_adjust(hspace=0.5)"
      ],
      "metadata": {
        "id": "q-u2mt9_firb"
      },
      "execution_count": null,
      "outputs": []
    },
    {
      "cell_type": "code",
      "source": [
        "W_grid=5\n",
        "L_grid=5\n",
        "show_random_images(L_grid,W_grid,X_train,y_train)"
      ],
      "metadata": {
        "colab": {
          "base_uri": "https://localhost:8080/",
          "height": 755
        },
        "id": "oZJZ_hazhnKI",
        "outputId": "ccda33ee-e3f9-4751-83c0-e2ebb9bc9d94"
      },
      "execution_count": null,
      "outputs": [
        {
          "output_type": "stream",
          "name": "stderr",
          "text": [
            "/usr/local/lib/python3.8/dist-packages/matplotlib/text.py:1165: FutureWarning: elementwise comparison failed; returning scalar instead, but in the future will perform elementwise comparison\n",
            "  if s != self._text:\n"
          ]
        },
        {
          "output_type": "display_data",
          "data": {
            "text/plain": [
              "<Figure size 1080x1080 with 25 Axes>"
            ],
            "image/png": "[encoded data removed]"
          },
          "metadata": {
            "needs_background": "light"
          }
        }
      ]
    },
    {
      "cell_type": "markdown",
      "source": [
        "#DATA PREPARATION"
      ],
      "metadata": {
        "id": "dUgzgMOoiC2-"
      }
    },
    {
      "cell_type": "code",
      "source": [
        "X_train"
      ],
      "metadata": {
        "colab": {
          "base_uri": "https://localhost:8080/"
        },
        "id": "TWEVX_chh1J-",
        "outputId": "659d05b9-aa7d-47b4-d8ee-1386a43802c1"
      },
      "execution_count": null,
      "outputs": [
        {
          "output_type": "execute_result",
          "data": {
            "text/plain": [
              "array([[[[ 59,  62,  63],\n",
              "         [ 43,  46,  45],\n",
              "         [ 50,  48,  43],\n",
              "         ...,\n",
              "         [158, 132, 108],\n",
              "         [152, 125, 102],\n",
              "         [148, 124, 103]],\n",
              "\n",
              "        [[ 16,  20,  20],\n",
              "         [  0,   0,   0],\n",
              "         [ 18,   8,   0],\n",
              "         ...,\n",
              "         [123,  88,  55],\n",
              "         [119,  83,  50],\n",
              "         [122,  87,  57]],\n",
              "\n",
              "        [[ 25,  24,  21],\n",
              "         [ 16,   7,   0],\n",
              "         [ 49,  27,   8],\n",
              "         ...,\n",
              "         [118,  84,  50],\n",
              "         [120,  84,  50],\n",
              "         [109,  73,  42]],\n",
              "\n",
              "        ...,\n",
              "\n",
              "        [[208, 170,  96],\n",
              "         [201, 153,  34],\n",
              "         [198, 161,  26],\n",
              "         ...,\n",
              "         [160, 133,  70],\n",
              "         [ 56,  31,   7],\n",
              "         [ 53,  34,  20]],\n",
              "\n",
              "        [[180, 139,  96],\n",
              "         [173, 123,  42],\n",
              "         [186, 144,  30],\n",
              "         ...,\n",
              "         [184, 148,  94],\n",
              "         [ 97,  62,  34],\n",
              "         [ 83,  53,  34]],\n",
              "\n",
              "        [[177, 144, 116],\n",
              "         [168, 129,  94],\n",
              "         [179, 142,  87],\n",
              "         ...,\n",
              "         [216, 184, 140],\n",
              "         [151, 118,  84],\n",
              "         [123,  92,  72]]],\n",
              "\n",
              "\n",
              "       [[[154, 177, 187],\n",
              "         [126, 137, 136],\n",
              "         [105, 104,  95],\n",
              "         ...,\n",
              "         [ 91,  95,  71],\n",
              "         [ 87,  90,  71],\n",
              "         [ 79,  81,  70]],\n",
              "\n",
              "        [[140, 160, 169],\n",
              "         [145, 153, 154],\n",
              "         [125, 125, 118],\n",
              "         ...,\n",
              "         [ 96,  99,  78],\n",
              "         [ 77,  80,  62],\n",
              "         [ 71,  73,  61]],\n",
              "\n",
              "        [[140, 155, 164],\n",
              "         [139, 146, 149],\n",
              "         [115, 115, 112],\n",
              "         ...,\n",
              "         [ 79,  82,  64],\n",
              "         [ 68,  70,  55],\n",
              "         [ 67,  69,  55]],\n",
              "\n",
              "        ...,\n",
              "\n",
              "        [[175, 167, 166],\n",
              "         [156, 154, 160],\n",
              "         [154, 160, 170],\n",
              "         ...,\n",
              "         [ 42,  34,  36],\n",
              "         [ 61,  53,  57],\n",
              "         [ 93,  83,  91]],\n",
              "\n",
              "        [[165, 154, 128],\n",
              "         [156, 152, 130],\n",
              "         [159, 161, 142],\n",
              "         ...,\n",
              "         [103,  93,  96],\n",
              "         [123, 114, 120],\n",
              "         [131, 121, 131]],\n",
              "\n",
              "        [[163, 148, 120],\n",
              "         [158, 148, 122],\n",
              "         [163, 156, 133],\n",
              "         ...,\n",
              "         [143, 133, 139],\n",
              "         [143, 134, 142],\n",
              "         [143, 133, 144]]],\n",
              "\n",
              "\n",
              "       [[[255, 255, 255],\n",
              "         [253, 253, 253],\n",
              "         [253, 253, 253],\n",
              "         ...,\n",
              "         [253, 253, 253],\n",
              "         [253, 253, 253],\n",
              "         [253, 253, 253]],\n",
              "\n",
              "        [[255, 255, 255],\n",
              "         [255, 255, 255],\n",
              "         [255, 255, 255],\n",
              "         ...,\n",
              "         [255, 255, 255],\n",
              "         [255, 255, 255],\n",
              "         [255, 255, 255]],\n",
              "\n",
              "        [[255, 255, 255],\n",
              "         [254, 254, 254],\n",
              "         [254, 254, 254],\n",
              "         ...,\n",
              "         [254, 254, 254],\n",
              "         [254, 254, 254],\n",
              "         [254, 254, 254]],\n",
              "\n",
              "        ...,\n",
              "\n",
              "        [[113, 120, 112],\n",
              "         [111, 118, 111],\n",
              "         [105, 112, 106],\n",
              "         ...,\n",
              "         [ 72,  81,  80],\n",
              "         [ 72,  80,  79],\n",
              "         [ 72,  80,  79]],\n",
              "\n",
              "        [[111, 118, 110],\n",
              "         [104, 111, 104],\n",
              "         [ 99, 106,  98],\n",
              "         ...,\n",
              "         [ 68,  75,  73],\n",
              "         [ 70,  76,  75],\n",
              "         [ 78,  84,  82]],\n",
              "\n",
              "        [[106, 113, 105],\n",
              "         [ 99, 106,  98],\n",
              "         [ 95, 102,  94],\n",
              "         ...,\n",
              "         [ 78,  85,  83],\n",
              "         [ 79,  85,  83],\n",
              "         [ 80,  86,  84]]],\n",
              "\n",
              "\n",
              "       ...,\n",
              "\n",
              "\n",
              "       [[[ 35, 178, 235],\n",
              "         [ 40, 176, 239],\n",
              "         [ 42, 176, 241],\n",
              "         ...,\n",
              "         [ 99, 177, 219],\n",
              "         [ 79, 147, 197],\n",
              "         [ 89, 148, 189]],\n",
              "\n",
              "        [[ 57, 182, 234],\n",
              "         [ 44, 184, 250],\n",
              "         [ 50, 183, 240],\n",
              "         ...,\n",
              "         [156, 182, 200],\n",
              "         [141, 177, 206],\n",
              "         [116, 149, 175]],\n",
              "\n",
              "        [[ 98, 197, 237],\n",
              "         [ 64, 189, 252],\n",
              "         [ 69, 192, 245],\n",
              "         ...,\n",
              "         [188, 195, 206],\n",
              "         [119, 135, 147],\n",
              "         [ 61,  79,  90]],\n",
              "\n",
              "        ...,\n",
              "\n",
              "        [[ 73,  79,  77],\n",
              "         [ 53,  63,  68],\n",
              "         [ 54,  68,  80],\n",
              "         ...,\n",
              "         [ 17,  40,  64],\n",
              "         [ 21,  36,  51],\n",
              "         [ 33,  48,  49]],\n",
              "\n",
              "        [[ 61,  68,  75],\n",
              "         [ 55,  70,  86],\n",
              "         [ 57,  79, 103],\n",
              "         ...,\n",
              "         [ 24,  48,  72],\n",
              "         [ 17,  35,  53],\n",
              "         [  7,  23,  32]],\n",
              "\n",
              "        [[ 44,  56,  73],\n",
              "         [ 46,  66,  88],\n",
              "         [ 49,  77, 105],\n",
              "         ...,\n",
              "         [ 27,  52,  77],\n",
              "         [ 21,  43,  66],\n",
              "         [ 12,  31,  50]]],\n",
              "\n",
              "\n",
              "       [[[189, 211, 240],\n",
              "         [186, 208, 236],\n",
              "         [185, 207, 235],\n",
              "         ...,\n",
              "         [175, 195, 224],\n",
              "         [172, 194, 222],\n",
              "         [169, 194, 220]],\n",
              "\n",
              "        [[194, 210, 239],\n",
              "         [191, 207, 236],\n",
              "         [190, 206, 235],\n",
              "         ...,\n",
              "         [173, 192, 220],\n",
              "         [171, 191, 218],\n",
              "         [167, 190, 216]],\n",
              "\n",
              "        [[208, 219, 244],\n",
              "         [205, 216, 240],\n",
              "         [204, 215, 239],\n",
              "         ...,\n",
              "         [175, 191, 217],\n",
              "         [172, 190, 216],\n",
              "         [169, 191, 215]],\n",
              "\n",
              "        ...,\n",
              "\n",
              "        [[207, 199, 181],\n",
              "         [203, 195, 175],\n",
              "         [203, 196, 173],\n",
              "         ...,\n",
              "         [135, 132, 127],\n",
              "         [162, 158, 150],\n",
              "         [168, 163, 151]],\n",
              "\n",
              "        [[198, 190, 170],\n",
              "         [189, 181, 159],\n",
              "         [180, 172, 147],\n",
              "         ...,\n",
              "         [178, 171, 160],\n",
              "         [175, 169, 156],\n",
              "         [175, 169, 154]],\n",
              "\n",
              "        [[198, 189, 173],\n",
              "         [189, 181, 162],\n",
              "         [178, 170, 149],\n",
              "         ...,\n",
              "         [195, 184, 169],\n",
              "         [196, 189, 171],\n",
              "         [195, 190, 171]]],\n",
              "\n",
              "\n",
              "       [[[229, 229, 239],\n",
              "         [236, 237, 247],\n",
              "         [234, 236, 247],\n",
              "         ...,\n",
              "         [217, 219, 233],\n",
              "         [221, 223, 234],\n",
              "         [222, 223, 233]],\n",
              "\n",
              "        [[222, 221, 229],\n",
              "         [239, 239, 249],\n",
              "         [233, 234, 246],\n",
              "         ...,\n",
              "         [223, 223, 236],\n",
              "         [227, 228, 238],\n",
              "         [210, 211, 220]],\n",
              "\n",
              "        [[213, 206, 211],\n",
              "         [234, 232, 239],\n",
              "         [231, 233, 244],\n",
              "         ...,\n",
              "         [220, 220, 232],\n",
              "         [220, 219, 232],\n",
              "         [202, 203, 215]],\n",
              "\n",
              "        ...,\n",
              "\n",
              "        [[150, 143, 135],\n",
              "         [140, 135, 127],\n",
              "         [132, 127, 120],\n",
              "         ...,\n",
              "         [224, 222, 218],\n",
              "         [230, 228, 225],\n",
              "         [241, 241, 238]],\n",
              "\n",
              "        [[137, 132, 126],\n",
              "         [130, 127, 120],\n",
              "         [125, 121, 115],\n",
              "         ...,\n",
              "         [181, 180, 178],\n",
              "         [202, 201, 198],\n",
              "         [212, 211, 207]],\n",
              "\n",
              "        [[122, 119, 114],\n",
              "         [118, 116, 110],\n",
              "         [120, 116, 111],\n",
              "         ...,\n",
              "         [179, 177, 173],\n",
              "         [164, 164, 162],\n",
              "         [163, 163, 161]]]], dtype=uint8)"
            ]
          },
          "metadata": {},
          "execution_count": 12
        }
      ]
    },
    {
      "cell_type": "code",
      "source": [
        "X_train=X_train.astype('float32')\n",
        "X_test=X_test.astype('float32')"
      ],
      "metadata": {
        "id": "qxYp9mcDiL39"
      },
      "execution_count": null,
      "outputs": []
    },
    {
      "cell_type": "code",
      "source": [
        "number_categ=10"
      ],
      "metadata": {
        "id": "p2qkhZIuiZ2G"
      },
      "execution_count": null,
      "outputs": []
    },
    {
      "cell_type": "code",
      "source": [
        "y_train"
      ],
      "metadata": {
        "colab": {
          "base_uri": "https://localhost:8080/"
        },
        "id": "3zcpDHcBiiY1",
        "outputId": "54efdc70-5c3f-401b-b11f-8ac533006a62"
      },
      "execution_count": null,
      "outputs": [
        {
          "output_type": "execute_result",
          "data": {
            "text/plain": [
              "array([[6],\n",
              "       [9],\n",
              "       [9],\n",
              "       ...,\n",
              "       [9],\n",
              "       [1],\n",
              "       [1]], dtype=uint8)"
            ]
          },
          "metadata": {},
          "execution_count": 15
        }
      ]
    },
    {
      "cell_type": "code",
      "source": [
        "import keras\n",
        "y_train=keras.utils.to_categorical(y_train,number_categ)"
      ],
      "metadata": {
        "id": "ygy_BqjNikDZ"
      },
      "execution_count": null,
      "outputs": []
    },
    {
      "cell_type": "code",
      "source": [
        "y_train"
      ],
      "metadata": {
        "colab": {
          "base_uri": "https://localhost:8080/"
        },
        "id": "hn9snSGzi0S2",
        "outputId": "0fe038a6-a561-46bf-e205-96e10c56ba57"
      },
      "execution_count": null,
      "outputs": [
        {
          "output_type": "execute_result",
          "data": {
            "text/plain": [
              "array([[0., 0., 0., ..., 0., 0., 0.],\n",
              "       [0., 0., 0., ..., 0., 0., 1.],\n",
              "       [0., 0., 0., ..., 0., 0., 1.],\n",
              "       ...,\n",
              "       [0., 0., 0., ..., 0., 0., 1.],\n",
              "       [0., 1., 0., ..., 0., 0., 0.],\n",
              "       [0., 1., 0., ..., 0., 0., 0.]], dtype=float32)"
            ]
          },
          "metadata": {},
          "execution_count": 17
        }
      ]
    },
    {
      "cell_type": "code",
      "source": [
        "y_train=keras.utils.to_categorical(y_train,number_categ)"
      ],
      "metadata": {
        "id": "97LmTct5i1hp"
      },
      "execution_count": null,
      "outputs": []
    },
    {
      "cell_type": "code",
      "source": [
        "X_train=X_train/255\n",
        "X_test=X_test/255"
      ],
      "metadata": {
        "id": "yS4Nahbqi-tC"
      },
      "execution_count": null,
      "outputs": []
    },
    {
      "cell_type": "code",
      "source": [
        "X_train"
      ],
      "metadata": {
        "colab": {
          "base_uri": "https://localhost:8080/"
        },
        "id": "paUyzU-2jDbb",
        "outputId": "4ff6b792-b6b7-4adc-cf64-8cf779dc2dec"
      },
      "execution_count": null,
      "outputs": [
        {
          "output_type": "execute_result",
          "data": {
            "text/plain": [
              "array([[[[0.23137255, 0.24313726, 0.24705882],\n",
              "         [0.16862746, 0.18039216, 0.1764706 ],\n",
              "         [0.19607843, 0.1882353 , 0.16862746],\n",
              "         ...,\n",
              "         [0.61960787, 0.5176471 , 0.42352942],\n",
              "         [0.59607846, 0.49019608, 0.4       ],\n",
              "         [0.5803922 , 0.4862745 , 0.40392157]],\n",
              "\n",
              "        [[0.0627451 , 0.07843138, 0.07843138],\n",
              "         [0.        , 0.        , 0.        ],\n",
              "         [0.07058824, 0.03137255, 0.        ],\n",
              "         ...,\n",
              "         [0.48235294, 0.34509805, 0.21568628],\n",
              "         [0.46666667, 0.3254902 , 0.19607843],\n",
              "         [0.47843137, 0.34117648, 0.22352941]],\n",
              "\n",
              "        [[0.09803922, 0.09411765, 0.08235294],\n",
              "         [0.0627451 , 0.02745098, 0.        ],\n",
              "         [0.19215687, 0.10588235, 0.03137255],\n",
              "         ...,\n",
              "         [0.4627451 , 0.32941177, 0.19607843],\n",
              "         [0.47058824, 0.32941177, 0.19607843],\n",
              "         [0.42745098, 0.28627452, 0.16470589]],\n",
              "\n",
              "        ...,\n",
              "\n",
              "        [[0.8156863 , 0.6666667 , 0.3764706 ],\n",
              "         [0.7882353 , 0.6       , 0.13333334],\n",
              "         [0.7764706 , 0.6313726 , 0.10196079],\n",
              "         ...,\n",
              "         [0.627451  , 0.52156866, 0.27450982],\n",
              "         [0.21960784, 0.12156863, 0.02745098],\n",
              "         [0.20784314, 0.13333334, 0.07843138]],\n",
              "\n",
              "        [[0.7058824 , 0.54509807, 0.3764706 ],\n",
              "         [0.6784314 , 0.48235294, 0.16470589],\n",
              "         [0.7294118 , 0.5647059 , 0.11764706],\n",
              "         ...,\n",
              "         [0.72156864, 0.5803922 , 0.36862746],\n",
              "         [0.38039216, 0.24313726, 0.13333334],\n",
              "         [0.3254902 , 0.20784314, 0.13333334]],\n",
              "\n",
              "        [[0.69411767, 0.5647059 , 0.45490196],\n",
              "         [0.65882355, 0.5058824 , 0.36862746],\n",
              "         [0.7019608 , 0.5568628 , 0.34117648],\n",
              "         ...,\n",
              "         [0.84705883, 0.72156864, 0.54901963],\n",
              "         [0.5921569 , 0.4627451 , 0.32941177],\n",
              "         [0.48235294, 0.36078432, 0.28235295]]],\n",
              "\n",
              "\n",
              "       [[[0.6039216 , 0.69411767, 0.73333335],\n",
              "         [0.49411765, 0.5372549 , 0.53333336],\n",
              "         [0.4117647 , 0.40784314, 0.37254903],\n",
              "         ...,\n",
              "         [0.35686275, 0.37254903, 0.2784314 ],\n",
              "         [0.34117648, 0.3529412 , 0.2784314 ],\n",
              "         [0.30980393, 0.31764707, 0.27450982]],\n",
              "\n",
              "        [[0.54901963, 0.627451  , 0.6627451 ],\n",
              "         [0.5686275 , 0.6       , 0.6039216 ],\n",
              "         [0.49019608, 0.49019608, 0.4627451 ],\n",
              "         ...,\n",
              "         [0.3764706 , 0.3882353 , 0.30588236],\n",
              "         [0.3019608 , 0.3137255 , 0.24313726],\n",
              "         [0.2784314 , 0.28627452, 0.23921569]],\n",
              "\n",
              "        [[0.54901963, 0.60784316, 0.6431373 ],\n",
              "         [0.54509807, 0.57254905, 0.58431375],\n",
              "         [0.4509804 , 0.4509804 , 0.4392157 ],\n",
              "         ...,\n",
              "         [0.30980393, 0.32156864, 0.2509804 ],\n",
              "         [0.26666668, 0.27450982, 0.21568628],\n",
              "         [0.2627451 , 0.27058825, 0.21568628]],\n",
              "\n",
              "        ...,\n",
              "\n",
              "        [[0.6862745 , 0.654902  , 0.6509804 ],\n",
              "         [0.6117647 , 0.6039216 , 0.627451  ],\n",
              "         [0.6039216 , 0.627451  , 0.6666667 ],\n",
              "         ...,\n",
              "         [0.16470589, 0.13333334, 0.14117648],\n",
              "         [0.23921569, 0.20784314, 0.22352941],\n",
              "         [0.3647059 , 0.3254902 , 0.35686275]],\n",
              "\n",
              "        [[0.64705884, 0.6039216 , 0.5019608 ],\n",
              "         [0.6117647 , 0.59607846, 0.50980395],\n",
              "         [0.62352943, 0.6313726 , 0.5568628 ],\n",
              "         ...,\n",
              "         [0.40392157, 0.3647059 , 0.3764706 ],\n",
              "         [0.48235294, 0.44705883, 0.47058824],\n",
              "         [0.5137255 , 0.4745098 , 0.5137255 ]],\n",
              "\n",
              "        [[0.6392157 , 0.5803922 , 0.47058824],\n",
              "         [0.61960787, 0.5803922 , 0.47843137],\n",
              "         [0.6392157 , 0.6117647 , 0.52156866],\n",
              "         ...,\n",
              "         [0.56078434, 0.52156866, 0.54509807],\n",
              "         [0.56078434, 0.5254902 , 0.5568628 ],\n",
              "         [0.56078434, 0.52156866, 0.5647059 ]]],\n",
              "\n",
              "\n",
              "       [[[1.        , 1.        , 1.        ],\n",
              "         [0.99215686, 0.99215686, 0.99215686],\n",
              "         [0.99215686, 0.99215686, 0.99215686],\n",
              "         ...,\n",
              "         [0.99215686, 0.99215686, 0.99215686],\n",
              "         [0.99215686, 0.99215686, 0.99215686],\n",
              "         [0.99215686, 0.99215686, 0.99215686]],\n",
              "\n",
              "        [[1.        , 1.        , 1.        ],\n",
              "         [1.        , 1.        , 1.        ],\n",
              "         [1.        , 1.        , 1.        ],\n",
              "         ...,\n",
              "         [1.        , 1.        , 1.        ],\n",
              "         [1.        , 1.        , 1.        ],\n",
              "         [1.        , 1.        , 1.        ]],\n",
              "\n",
              "        [[1.        , 1.        , 1.        ],\n",
              "         [0.99607843, 0.99607843, 0.99607843],\n",
              "         [0.99607843, 0.99607843, 0.99607843],\n",
              "         ...,\n",
              "         [0.99607843, 0.99607843, 0.99607843],\n",
              "         [0.99607843, 0.99607843, 0.99607843],\n",
              "         [0.99607843, 0.99607843, 0.99607843]],\n",
              "\n",
              "        ...,\n",
              "\n",
              "        [[0.44313726, 0.47058824, 0.4392157 ],\n",
              "         [0.43529412, 0.4627451 , 0.43529412],\n",
              "         [0.4117647 , 0.4392157 , 0.41568628],\n",
              "         ...,\n",
              "         [0.28235295, 0.31764707, 0.3137255 ],\n",
              "         [0.28235295, 0.3137255 , 0.30980393],\n",
              "         [0.28235295, 0.3137255 , 0.30980393]],\n",
              "\n",
              "        [[0.43529412, 0.4627451 , 0.43137255],\n",
              "         [0.40784314, 0.43529412, 0.40784314],\n",
              "         [0.3882353 , 0.41568628, 0.38431373],\n",
              "         ...,\n",
              "         [0.26666668, 0.29411766, 0.28627452],\n",
              "         [0.27450982, 0.29803923, 0.29411766],\n",
              "         [0.30588236, 0.32941177, 0.32156864]],\n",
              "\n",
              "        [[0.41568628, 0.44313726, 0.4117647 ],\n",
              "         [0.3882353 , 0.41568628, 0.38431373],\n",
              "         [0.37254903, 0.4       , 0.36862746],\n",
              "         ...,\n",
              "         [0.30588236, 0.33333334, 0.3254902 ],\n",
              "         [0.30980393, 0.33333334, 0.3254902 ],\n",
              "         [0.3137255 , 0.3372549 , 0.32941177]]],\n",
              "\n",
              "\n",
              "       ...,\n",
              "\n",
              "\n",
              "       [[[0.13725491, 0.69803923, 0.92156863],\n",
              "         [0.15686275, 0.6901961 , 0.9372549 ],\n",
              "         [0.16470589, 0.6901961 , 0.94509804],\n",
              "         ...,\n",
              "         [0.3882353 , 0.69411767, 0.85882354],\n",
              "         [0.30980393, 0.5764706 , 0.77254903],\n",
              "         [0.34901962, 0.5803922 , 0.7411765 ]],\n",
              "\n",
              "        [[0.22352941, 0.7137255 , 0.91764706],\n",
              "         [0.17254902, 0.72156864, 0.98039216],\n",
              "         [0.19607843, 0.7176471 , 0.9411765 ],\n",
              "         ...,\n",
              "         [0.6117647 , 0.7137255 , 0.78431374],\n",
              "         [0.5529412 , 0.69411767, 0.80784315],\n",
              "         [0.45490196, 0.58431375, 0.6862745 ]],\n",
              "\n",
              "        [[0.38431373, 0.77254903, 0.92941177],\n",
              "         [0.2509804 , 0.7411765 , 0.9882353 ],\n",
              "         [0.27058825, 0.7529412 , 0.9607843 ],\n",
              "         ...,\n",
              "         [0.7372549 , 0.7647059 , 0.80784315],\n",
              "         [0.46666667, 0.5294118 , 0.5764706 ],\n",
              "         [0.23921569, 0.30980393, 0.3529412 ]],\n",
              "\n",
              "        ...,\n",
              "\n",
              "        [[0.28627452, 0.30980393, 0.3019608 ],\n",
              "         [0.20784314, 0.24705882, 0.26666668],\n",
              "         [0.21176471, 0.26666668, 0.3137255 ],\n",
              "         ...,\n",
              "         [0.06666667, 0.15686275, 0.2509804 ],\n",
              "         [0.08235294, 0.14117648, 0.2       ],\n",
              "         [0.12941177, 0.1882353 , 0.19215687]],\n",
              "\n",
              "        [[0.23921569, 0.26666668, 0.29411766],\n",
              "         [0.21568628, 0.27450982, 0.3372549 ],\n",
              "         [0.22352941, 0.30980393, 0.40392157],\n",
              "         ...,\n",
              "         [0.09411765, 0.1882353 , 0.28235295],\n",
              "         [0.06666667, 0.13725491, 0.20784314],\n",
              "         [0.02745098, 0.09019608, 0.1254902 ]],\n",
              "\n",
              "        [[0.17254902, 0.21960784, 0.28627452],\n",
              "         [0.18039216, 0.25882354, 0.34509805],\n",
              "         [0.19215687, 0.3019608 , 0.4117647 ],\n",
              "         ...,\n",
              "         [0.10588235, 0.20392157, 0.3019608 ],\n",
              "         [0.08235294, 0.16862746, 0.25882354],\n",
              "         [0.04705882, 0.12156863, 0.19607843]]],\n",
              "\n",
              "\n",
              "       [[[0.7411765 , 0.827451  , 0.9411765 ],\n",
              "         [0.7294118 , 0.8156863 , 0.9254902 ],\n",
              "         [0.7254902 , 0.8117647 , 0.92156863],\n",
              "         ...,\n",
              "         [0.6862745 , 0.7647059 , 0.8784314 ],\n",
              "         [0.6745098 , 0.7607843 , 0.87058824],\n",
              "         [0.6627451 , 0.7607843 , 0.8627451 ]],\n",
              "\n",
              "        [[0.7607843 , 0.8235294 , 0.9372549 ],\n",
              "         [0.7490196 , 0.8117647 , 0.9254902 ],\n",
              "         [0.74509805, 0.80784315, 0.92156863],\n",
              "         ...,\n",
              "         [0.6784314 , 0.7529412 , 0.8627451 ],\n",
              "         [0.67058825, 0.7490196 , 0.85490197],\n",
              "         [0.654902  , 0.74509805, 0.84705883]],\n",
              "\n",
              "        [[0.8156863 , 0.85882354, 0.95686275],\n",
              "         [0.8039216 , 0.84705883, 0.9411765 ],\n",
              "         [0.8       , 0.84313726, 0.9372549 ],\n",
              "         ...,\n",
              "         [0.6862745 , 0.7490196 , 0.8509804 ],\n",
              "         [0.6745098 , 0.74509805, 0.84705883],\n",
              "         [0.6627451 , 0.7490196 , 0.84313726]],\n",
              "\n",
              "        ...,\n",
              "\n",
              "        [[0.8117647 , 0.78039217, 0.70980394],\n",
              "         [0.79607844, 0.7647059 , 0.6862745 ],\n",
              "         [0.79607844, 0.76862746, 0.6784314 ],\n",
              "         ...,\n",
              "         [0.5294118 , 0.5176471 , 0.49803922],\n",
              "         [0.63529414, 0.61960787, 0.5882353 ],\n",
              "         [0.65882355, 0.6392157 , 0.5921569 ]],\n",
              "\n",
              "        [[0.7764706 , 0.74509805, 0.6666667 ],\n",
              "         [0.7411765 , 0.70980394, 0.62352943],\n",
              "         [0.7058824 , 0.6745098 , 0.5764706 ],\n",
              "         ...,\n",
              "         [0.69803923, 0.67058825, 0.627451  ],\n",
              "         [0.6862745 , 0.6627451 , 0.6117647 ],\n",
              "         [0.6862745 , 0.6627451 , 0.6039216 ]],\n",
              "\n",
              "        [[0.7764706 , 0.7411765 , 0.6784314 ],\n",
              "         [0.7411765 , 0.70980394, 0.63529414],\n",
              "         [0.69803923, 0.6666667 , 0.58431375],\n",
              "         ...,\n",
              "         [0.7647059 , 0.72156864, 0.6627451 ],\n",
              "         [0.76862746, 0.7411765 , 0.67058825],\n",
              "         [0.7647059 , 0.74509805, 0.67058825]]],\n",
              "\n",
              "\n",
              "       [[[0.8980392 , 0.8980392 , 0.9372549 ],\n",
              "         [0.9254902 , 0.92941177, 0.96862745],\n",
              "         [0.91764706, 0.9254902 , 0.96862745],\n",
              "         ...,\n",
              "         [0.8509804 , 0.85882354, 0.9137255 ],\n",
              "         [0.8666667 , 0.8745098 , 0.91764706],\n",
              "         [0.87058824, 0.8745098 , 0.9137255 ]],\n",
              "\n",
              "        [[0.87058824, 0.8666667 , 0.8980392 ],\n",
              "         [0.9372549 , 0.9372549 , 0.9764706 ],\n",
              "         [0.9137255 , 0.91764706, 0.9647059 ],\n",
              "         ...,\n",
              "         [0.8745098 , 0.8745098 , 0.9254902 ],\n",
              "         [0.8901961 , 0.89411765, 0.93333334],\n",
              "         [0.8235294 , 0.827451  , 0.8627451 ]],\n",
              "\n",
              "        [[0.8352941 , 0.80784315, 0.827451  ],\n",
              "         [0.91764706, 0.9098039 , 0.9372549 ],\n",
              "         [0.90588236, 0.9137255 , 0.95686275],\n",
              "         ...,\n",
              "         [0.8627451 , 0.8627451 , 0.9098039 ],\n",
              "         [0.8627451 , 0.85882354, 0.9098039 ],\n",
              "         [0.7921569 , 0.79607844, 0.84313726]],\n",
              "\n",
              "        ...,\n",
              "\n",
              "        [[0.5882353 , 0.56078434, 0.5294118 ],\n",
              "         [0.54901963, 0.5294118 , 0.49803922],\n",
              "         [0.5176471 , 0.49803922, 0.47058824],\n",
              "         ...,\n",
              "         [0.8784314 , 0.87058824, 0.85490197],\n",
              "         [0.9019608 , 0.89411765, 0.88235295],\n",
              "         [0.94509804, 0.94509804, 0.93333334]],\n",
              "\n",
              "        [[0.5372549 , 0.5176471 , 0.49411765],\n",
              "         [0.50980395, 0.49803922, 0.47058824],\n",
              "         [0.49019608, 0.4745098 , 0.4509804 ],\n",
              "         ...,\n",
              "         [0.70980394, 0.7058824 , 0.69803923],\n",
              "         [0.7921569 , 0.7882353 , 0.7764706 ],\n",
              "         [0.83137256, 0.827451  , 0.8117647 ]],\n",
              "\n",
              "        [[0.47843137, 0.46666667, 0.44705883],\n",
              "         [0.4627451 , 0.45490196, 0.43137255],\n",
              "         [0.47058824, 0.45490196, 0.43529412],\n",
              "         ...,\n",
              "         [0.7019608 , 0.69411767, 0.6784314 ],\n",
              "         [0.6431373 , 0.6431373 , 0.63529414],\n",
              "         [0.6392157 , 0.6392157 , 0.6313726 ]]]], dtype=float32)"
            ]
          },
          "metadata": {},
          "execution_count": 20
        }
      ]
    },
    {
      "cell_type": "code",
      "source": [
        "X_train.shape"
      ],
      "metadata": {
        "colab": {
          "base_uri": "https://localhost:8080/"
        },
        "id": "pDQpaeTyjG0h",
        "outputId": "43534966-42e0-4c7f-e7c3-da315ccc8c4f"
      },
      "execution_count": null,
      "outputs": [
        {
          "output_type": "execute_result",
          "data": {
            "text/plain": [
              "(50000, 32, 32, 3)"
            ]
          },
          "metadata": {},
          "execution_count": 21
        }
      ]
    },
    {
      "cell_type": "code",
      "source": [
        "input_shape=X_train.shape[1:]"
      ],
      "metadata": {
        "id": "Y1kSN9ZbjKDm"
      },
      "execution_count": null,
      "outputs": []
    },
    {
      "cell_type": "code",
      "source": [
        "input_shape"
      ],
      "metadata": {
        "colab": {
          "base_uri": "https://localhost:8080/"
        },
        "id": "d5Odp5c_jPf5",
        "outputId": "2ff34404-d36d-4aa9-fc8c-5d973f8a2710"
      },
      "execution_count": null,
      "outputs": [
        {
          "output_type": "execute_result",
          "data": {
            "text/plain": [
              "(32, 32, 3)"
            ]
          },
          "metadata": {},
          "execution_count": 23
        }
      ]
    },
    {
      "cell_type": "code",
      "source": [
        "y_train.shape"
      ],
      "metadata": {
        "colab": {
          "base_uri": "https://localhost:8080/"
        },
        "id": "DsXddvfqjQIT",
        "outputId": "da7faa10-bb06-4638-8c6c-38d43085dd9c"
      },
      "execution_count": null,
      "outputs": [
        {
          "output_type": "execute_result",
          "data": {
            "text/plain": [
              "(50000, 10)"
            ]
          },
          "metadata": {},
          "execution_count": 24
        }
      ]
    },
    {
      "cell_type": "code",
      "source": [
        "y_test=keras.utils.to_categorical(y_test,number_categ)\n"
      ],
      "metadata": {
        "id": "ePiJOsT-zHAg"
      },
      "execution_count": null,
      "outputs": []
    },
    {
      "cell_type": "markdown",
      "source": [],
      "metadata": {
        "id": "41sDT1MljTZJ"
      }
    },
    {
      "cell_type": "markdown",
      "source": [
        "#TRAIN THE MODEL"
      ],
      "metadata": {
        "id": "Ql-pgMvyjTmN"
      }
    },
    {
      "cell_type": "code",
      "source": [
        "cnn=tf.keras.Sequential()\n",
        "\n",
        "cnn.add(tf.keras.layers.Conv2D(32,(3,3),activation='relu',input_shape=input_shape))\n",
        "cnn.add(tf.keras.layers.Conv2D(32,(3,3),activation='relu'))\n",
        "cnn.add(tf.keras.layers.MaxPool2D(2,2))\n",
        "cnn.add(tf.keras.layers.Dropout(0.3))\n",
        "\n",
        "\n",
        "cnn.add(tf.keras.layers.Conv2D(64,(3,3),activation='relu'))\n",
        "cnn.add(tf.keras.layers.Conv2D(64,(3,3),activation='relu'))\n",
        "cnn.add(tf.keras.layers.MaxPool2D(2,2))\n",
        "cnn.add(tf.keras.layers.Dropout(0.3))\n",
        "\n",
        "cnn.add(tf.keras.layers.Flatten())\n",
        "\n",
        "cnn.add(tf.keras.layers.Dense(1024,activation='relu'))\n",
        "cnn.add(tf.keras.layers.Dropout(0.3))\n",
        "\n",
        "cnn.add(tf.keras.layers.Dense(1024,activation='relu'))\n",
        "\n",
        "cnn.add(tf.keras.layers.Dense(10,activation='softmax'))\n",
        "cnn.summary()\n",
        "\n"
      ],
      "metadata": {
        "colab": {
          "base_uri": "https://localhost:8080/"
        },
        "id": "R05mhq1OjSRB",
        "outputId": "e2d521c5-c841-4e95-a10b-35174c3b6d73"
      },
      "execution_count": null,
      "outputs": [
        {
          "output_type": "stream",
          "name": "stdout",
          "text": [
            "Model: \"sequential_1\"\n",
            "_________________________________________________________________\n",
            " Layer (type)                Output Shape              Param #   \n",
            "=================================================================\n",
            " conv2d_4 (Conv2D)           (None, 30, 30, 32)        896       \n",
            "                                                                 \n",
            " conv2d_5 (Conv2D)           (None, 28, 28, 32)        9248      \n",
            "                                                                 \n",
            " max_pooling2d_2 (MaxPooling  (None, 14, 14, 32)       0         \n",
            " 2D)                                                             \n",
            "                                                                 \n",
            " dropout_3 (Dropout)         (None, 14, 14, 32)        0         \n",
            "                                                                 \n",
            " conv2d_6 (Conv2D)           (None, 12, 12, 64)        18496     \n",
            "                                                                 \n",
            " conv2d_7 (Conv2D)           (None, 10, 10, 64)        36928     \n",
            "                                                                 \n",
            " max_pooling2d_3 (MaxPooling  (None, 5, 5, 64)         0         \n",
            " 2D)                                                             \n",
            "                                                                 \n",
            " dropout_4 (Dropout)         (None, 5, 5, 64)          0         \n",
            "                                                                 \n",
            " flatten_1 (Flatten)         (None, 1600)              0         \n",
            "                                                                 \n",
            " dense_3 (Dense)             (None, 1024)              1639424   \n",
            "                                                                 \n",
            " dropout_5 (Dropout)         (None, 1024)              0         \n",
            "                                                                 \n",
            " dense_4 (Dense)             (None, 1024)              1049600   \n",
            "                                                                 \n",
            " dense_5 (Dense)             (None, 10)                10250     \n",
            "                                                                 \n",
            "=================================================================\n",
            "Total params: 2,764,842\n",
            "Trainable params: 2,764,842\n",
            "Non-trainable params: 0\n",
            "_________________________________________________________________\n"
          ]
        }
      ]
    },
    {
      "cell_type": "code",
      "source": [
        "cnn.compile(optimizer=tf.keras.optimizers.RMSprop(),loss='categorical_crossentropy',metrics=['accuracy'])\n",
        "\n"
      ],
      "metadata": {
        "id": "vOudGC6IsEKu"
      },
      "execution_count": null,
      "outputs": []
    },
    {
      "cell_type": "code",
      "source": [
        "epochs=100\n",
        "history=cnn.fit(X_train,y_train,batch_size=512,epochs=epochs)\n",
        " "
      ],
      "metadata": {
        "colab": {
          "base_uri": "https://localhost:8080/"
        },
        "id": "aQLBZV-vsm_a",
        "outputId": "c9cbcded-50cb-4c13-e74f-f758954d3d3f"
      },
      "execution_count": null,
      "outputs": [
        {
          "output_type": "stream",
          "name": "stdout",
          "text": [
            "Epoch 1/100\n",
            "98/98 [==============================] - 4s 32ms/step - loss: 4.8070 - accuracy: 0.1699\n",
            "Epoch 2/100\n",
            "98/98 [==============================] - 3s 32ms/step - loss: 2.0447 - accuracy: 0.2760\n",
            "Epoch 3/100\n",
            "98/98 [==============================] - 3s 32ms/step - loss: 1.8152 - accuracy: 0.3614\n",
            "Epoch 4/100\n",
            "98/98 [==============================] - 3s 32ms/step - loss: 1.5898 - accuracy: 0.4380\n",
            "Epoch 5/100\n",
            "98/98 [==============================] - 3s 32ms/step - loss: 1.4379 - accuracy: 0.4973\n",
            "Epoch 6/100\n",
            "98/98 [==============================] - 3s 32ms/step - loss: 1.3167 - accuracy: 0.5436\n",
            "Epoch 7/100\n",
            "98/98 [==============================] - 3s 32ms/step - loss: 1.2080 - accuracy: 0.5811\n",
            "Epoch 8/100\n",
            "98/98 [==============================] - 3s 32ms/step - loss: 1.1208 - accuracy: 0.6134\n",
            "Epoch 9/100\n",
            "98/98 [==============================] - 3s 32ms/step - loss: 1.0390 - accuracy: 0.6407\n",
            "Epoch 10/100\n",
            "98/98 [==============================] - 3s 32ms/step - loss: 0.9760 - accuracy: 0.6637\n",
            "Epoch 11/100\n",
            "98/98 [==============================] - 3s 32ms/step - loss: 0.9237 - accuracy: 0.6792\n",
            "Epoch 12/100\n",
            "98/98 [==============================] - 3s 32ms/step - loss: 0.8732 - accuracy: 0.6989\n",
            "Epoch 13/100\n",
            "98/98 [==============================] - 3s 33ms/step - loss: 0.8408 - accuracy: 0.7107\n",
            "Epoch 14/100\n",
            "98/98 [==============================] - 3s 32ms/step - loss: 0.8006 - accuracy: 0.7254\n",
            "Epoch 15/100\n",
            "98/98 [==============================] - 3s 32ms/step - loss: 0.7621 - accuracy: 0.7346\n",
            "Epoch 16/100\n",
            "98/98 [==============================] - 3s 32ms/step - loss: 0.7345 - accuracy: 0.7457\n",
            "Epoch 17/100\n",
            "98/98 [==============================] - 3s 32ms/step - loss: 0.7091 - accuracy: 0.7545\n",
            "Epoch 18/100\n",
            "98/98 [==============================] - 3s 32ms/step - loss: 0.6825 - accuracy: 0.7644\n",
            "Epoch 19/100\n",
            "98/98 [==============================] - 3s 32ms/step - loss: 0.6574 - accuracy: 0.7748\n",
            "Epoch 20/100\n",
            "98/98 [==============================] - 3s 32ms/step - loss: 0.6423 - accuracy: 0.7783\n",
            "Epoch 21/100\n",
            "98/98 [==============================] - 3s 32ms/step - loss: 0.6302 - accuracy: 0.7845\n",
            "Epoch 22/100\n",
            "98/98 [==============================] - 3s 32ms/step - loss: 0.6099 - accuracy: 0.7917\n",
            "Epoch 23/100\n",
            "98/98 [==============================] - 3s 32ms/step - loss: 0.5866 - accuracy: 0.7997\n",
            "Epoch 24/100\n",
            "98/98 [==============================] - 3s 32ms/step - loss: 0.5730 - accuracy: 0.8042\n",
            "Epoch 25/100\n",
            "98/98 [==============================] - 3s 32ms/step - loss: 0.5551 - accuracy: 0.8104\n",
            "Epoch 26/100\n",
            "98/98 [==============================] - 3s 34ms/step - loss: 0.5520 - accuracy: 0.8120\n",
            "Epoch 27/100\n",
            "98/98 [==============================] - 3s 32ms/step - loss: 0.5325 - accuracy: 0.8179\n",
            "Epoch 28/100\n",
            "98/98 [==============================] - 3s 32ms/step - loss: 0.5171 - accuracy: 0.8238\n",
            "Epoch 29/100\n",
            "98/98 [==============================] - 3s 32ms/step - loss: 0.5167 - accuracy: 0.8235\n",
            "Epoch 30/100\n",
            "98/98 [==============================] - 3s 32ms/step - loss: 0.5110 - accuracy: 0.8275\n",
            "Epoch 31/100\n",
            "98/98 [==============================] - 3s 32ms/step - loss: 0.4956 - accuracy: 0.8280\n",
            "Epoch 32/100\n",
            "98/98 [==============================] - 3s 32ms/step - loss: 0.4935 - accuracy: 0.8334\n",
            "Epoch 33/100\n",
            "98/98 [==============================] - 3s 32ms/step - loss: 0.4810 - accuracy: 0.8377\n",
            "Epoch 34/100\n",
            "98/98 [==============================] - 3s 32ms/step - loss: 0.4813 - accuracy: 0.8383\n",
            "Epoch 35/100\n",
            "98/98 [==============================] - 3s 32ms/step - loss: 0.4647 - accuracy: 0.8455\n",
            "Epoch 36/100\n",
            "98/98 [==============================] - 3s 31ms/step - loss: 0.4679 - accuracy: 0.8440\n",
            "Epoch 37/100\n",
            "98/98 [==============================] - 3s 33ms/step - loss: 0.4554 - accuracy: 0.8491\n",
            "Epoch 38/100\n",
            "98/98 [==============================] - 3s 33ms/step - loss: 0.4495 - accuracy: 0.8502\n",
            "Epoch 39/100\n",
            "98/98 [==============================] - 3s 33ms/step - loss: 0.4515 - accuracy: 0.8499\n",
            "Epoch 40/100\n",
            "98/98 [==============================] - 3s 33ms/step - loss: 0.4415 - accuracy: 0.8529\n",
            "Epoch 41/100\n",
            "98/98 [==============================] - 3s 33ms/step - loss: 0.4392 - accuracy: 0.8557\n",
            "Epoch 42/100\n",
            "98/98 [==============================] - 3s 33ms/step - loss: 0.4345 - accuracy: 0.8549\n",
            "Epoch 43/100\n",
            "98/98 [==============================] - 3s 33ms/step - loss: 0.4242 - accuracy: 0.8602\n",
            "Epoch 44/100\n",
            "98/98 [==============================] - 3s 33ms/step - loss: 0.4223 - accuracy: 0.8598\n",
            "Epoch 45/100\n",
            "98/98 [==============================] - 3s 34ms/step - loss: 0.4235 - accuracy: 0.8597\n",
            "Epoch 46/100\n",
            "98/98 [==============================] - 3s 35ms/step - loss: 0.4205 - accuracy: 0.8604\n",
            "Epoch 47/100\n",
            "98/98 [==============================] - 4s 37ms/step - loss: 0.4215 - accuracy: 0.8602\n",
            "Epoch 48/100\n",
            "98/98 [==============================] - 4s 37ms/step - loss: 0.4149 - accuracy: 0.8645\n",
            "Epoch 49/100\n",
            "98/98 [==============================] - 3s 35ms/step - loss: 0.4201 - accuracy: 0.8623\n",
            "Epoch 50/100\n",
            "98/98 [==============================] - 3s 32ms/step - loss: 0.4085 - accuracy: 0.8671\n",
            "Epoch 51/100\n",
            "98/98 [==============================] - 3s 32ms/step - loss: 0.3950 - accuracy: 0.8691\n",
            "Epoch 52/100\n",
            "98/98 [==============================] - 3s 32ms/step - loss: 0.3993 - accuracy: 0.8685\n",
            "Epoch 53/100\n",
            "98/98 [==============================] - 3s 32ms/step - loss: 0.3958 - accuracy: 0.8692\n",
            "Epoch 54/100\n",
            "98/98 [==============================] - 3s 32ms/step - loss: 0.3995 - accuracy: 0.8701\n",
            "Epoch 55/100\n",
            "98/98 [==============================] - 3s 32ms/step - loss: 0.3897 - accuracy: 0.8725\n",
            "Epoch 56/100\n",
            "98/98 [==============================] - 3s 33ms/step - loss: 0.3905 - accuracy: 0.8738\n",
            "Epoch 57/100\n",
            "98/98 [==============================] - 3s 33ms/step - loss: 0.3927 - accuracy: 0.8714\n",
            "Epoch 58/100\n",
            "98/98 [==============================] - 3s 32ms/step - loss: 0.3889 - accuracy: 0.8737\n",
            "Epoch 59/100\n",
            "98/98 [==============================] - 3s 32ms/step - loss: 0.3847 - accuracy: 0.8731\n",
            "Epoch 60/100\n",
            "98/98 [==============================] - 3s 32ms/step - loss: 0.3803 - accuracy: 0.8755\n",
            "Epoch 61/100\n",
            "98/98 [==============================] - 3s 33ms/step - loss: 0.3770 - accuracy: 0.8780\n",
            "Epoch 62/100\n",
            "98/98 [==============================] - 3s 32ms/step - loss: 0.3746 - accuracy: 0.8803\n",
            "Epoch 63/100\n",
            "98/98 [==============================] - 3s 32ms/step - loss: 0.3763 - accuracy: 0.8802\n",
            "Epoch 64/100\n",
            "98/98 [==============================] - 3s 32ms/step - loss: 0.3753 - accuracy: 0.8784\n",
            "Epoch 65/100\n",
            "98/98 [==============================] - 3s 32ms/step - loss: 0.3758 - accuracy: 0.8792\n",
            "Epoch 66/100\n",
            "98/98 [==============================] - 3s 32ms/step - loss: 0.3716 - accuracy: 0.8787\n",
            "Epoch 67/100\n",
            "98/98 [==============================] - 3s 32ms/step - loss: 0.3780 - accuracy: 0.8802\n",
            "Epoch 68/100\n",
            "98/98 [==============================] - 3s 32ms/step - loss: 0.3677 - accuracy: 0.8801\n",
            "Epoch 69/100\n",
            "98/98 [==============================] - 3s 34ms/step - loss: 0.3733 - accuracy: 0.8817\n",
            "Epoch 70/100\n",
            "98/98 [==============================] - 3s 32ms/step - loss: 0.3681 - accuracy: 0.8821\n",
            "Epoch 71/100\n",
            "98/98 [==============================] - 3s 32ms/step - loss: 0.3655 - accuracy: 0.8814\n",
            "Epoch 72/100\n",
            "98/98 [==============================] - 3s 32ms/step - loss: 0.3661 - accuracy: 0.8828\n",
            "Epoch 73/100\n",
            "98/98 [==============================] - 3s 32ms/step - loss: 0.3706 - accuracy: 0.8826\n",
            "Epoch 74/100\n",
            "98/98 [==============================] - 3s 32ms/step - loss: 0.3691 - accuracy: 0.8827\n",
            "Epoch 75/100\n",
            "98/98 [==============================] - 3s 32ms/step - loss: 0.3592 - accuracy: 0.8857\n",
            "Epoch 76/100\n",
            "98/98 [==============================] - 3s 32ms/step - loss: 0.3619 - accuracy: 0.8850\n",
            "Epoch 77/100\n",
            "98/98 [==============================] - 3s 32ms/step - loss: 0.3486 - accuracy: 0.8886\n",
            "Epoch 78/100\n",
            "98/98 [==============================] - 3s 32ms/step - loss: 0.3508 - accuracy: 0.8869\n",
            "Epoch 79/100\n",
            "98/98 [==============================] - 3s 32ms/step - loss: 0.3503 - accuracy: 0.8885\n",
            "Epoch 80/100\n",
            "98/98 [==============================] - 3s 34ms/step - loss: 0.3492 - accuracy: 0.8888\n",
            "Epoch 81/100\n",
            "98/98 [==============================] - 3s 32ms/step - loss: 0.3380 - accuracy: 0.8929\n",
            "Epoch 82/100\n",
            "98/98 [==============================] - 3s 33ms/step - loss: 0.3513 - accuracy: 0.8892\n",
            "Epoch 83/100\n",
            "98/98 [==============================] - 3s 32ms/step - loss: 0.3471 - accuracy: 0.8891\n",
            "Epoch 84/100\n",
            "98/98 [==============================] - 3s 32ms/step - loss: 0.3516 - accuracy: 0.8881\n",
            "Epoch 85/100\n",
            "98/98 [==============================] - 3s 32ms/step - loss: 0.3493 - accuracy: 0.8865\n",
            "Epoch 86/100\n",
            "98/98 [==============================] - 3s 33ms/step - loss: 0.3491 - accuracy: 0.8895\n",
            "Epoch 87/100\n",
            "98/98 [==============================] - 3s 33ms/step - loss: 0.3403 - accuracy: 0.8921\n",
            "Epoch 88/100\n",
            "98/98 [==============================] - 3s 33ms/step - loss: 0.3390 - accuracy: 0.8924\n",
            "Epoch 89/100\n",
            "98/98 [==============================] - 3s 33ms/step - loss: 0.3352 - accuracy: 0.8936\n",
            "Epoch 90/100\n",
            "98/98 [==============================] - 3s 32ms/step - loss: 0.3317 - accuracy: 0.8938\n",
            "Epoch 91/100\n",
            "98/98 [==============================] - 3s 33ms/step - loss: 0.3313 - accuracy: 0.8941\n",
            "Epoch 92/100\n",
            "98/98 [==============================] - 3s 32ms/step - loss: 0.3407 - accuracy: 0.8915\n",
            "Epoch 93/100\n",
            "98/98 [==============================] - 3s 32ms/step - loss: 0.3478 - accuracy: 0.8898\n",
            "Epoch 94/100\n",
            "98/98 [==============================] - 3s 33ms/step - loss: 0.3325 - accuracy: 0.8944\n",
            "Epoch 95/100\n",
            "98/98 [==============================] - 3s 33ms/step - loss: 0.3325 - accuracy: 0.8930\n",
            "Epoch 96/100\n",
            "98/98 [==============================] - 3s 33ms/step - loss: 0.3284 - accuracy: 0.8944\n",
            "Epoch 97/100\n",
            "98/98 [==============================] - 3s 33ms/step - loss: 0.3241 - accuracy: 0.8973\n",
            "Epoch 98/100\n",
            "98/98 [==============================] - 3s 33ms/step - loss: 0.3324 - accuracy: 0.8944\n",
            "Epoch 99/100\n",
            "98/98 [==============================] - 3s 32ms/step - loss: 0.3270 - accuracy: 0.8990\n",
            "Epoch 100/100\n",
            "98/98 [==============================] - 3s 34ms/step - loss: 0.3247 - accuracy: 0.8977\n"
          ]
        }
      ]
    },
    {
      "cell_type": "markdown",
      "source": [
        "#EVALUATE THE MODEL"
      ],
      "metadata": {
        "id": "iL11IT4nw0Cd"
      }
    },
    {
      "cell_type": "code",
      "source": [
        "cnn.save('cnnmodel.h5')  # creates a HDF5 file 'my_model.h5'"
      ],
      "metadata": {
        "id": "SDYk-F4jyUwh"
      },
      "execution_count": null,
      "outputs": []
    },
    {
      "cell_type": "code",
      "source": [
        "evaluation=cnn.evaluate(X_test,y_test)\n",
        "#print(f'Test_accuratcy{evaluation[1]}')"
      ],
      "metadata": {
        "colab": {
          "base_uri": "https://localhost:8080/"
        },
        "id": "vPo_V65ktEEW",
        "outputId": "0de9e6c0-0e9e-4cfa-ecd4-155400502493"
      },
      "execution_count": null,
      "outputs": [
        {
          "output_type": "stream",
          "name": "stdout",
          "text": [
            "313/313 [==============================] - 1s 4ms/step - loss: 0.7827 - accuracy: 0.7687\n"
          ]
        }
      ]
    },
    {
      "cell_type": "code",
      "source": [
        "y_test.shape"
      ],
      "metadata": {
        "colab": {
          "base_uri": "https://localhost:8080/"
        },
        "id": "JxEDuYqDxGJN",
        "outputId": "a35b4b31-101a-4c8e-e3c8-69ec05266f13"
      },
      "execution_count": null,
      "outputs": [
        {
          "output_type": "execute_result",
          "data": {
            "text/plain": [
              "(50000, 10, 10)"
            ]
          },
          "metadata": {},
          "execution_count": 32
        }
      ]
    },
    {
      "cell_type": "code",
      "source": [
        "predicted_class=cnn.predict(X_test)"
      ],
      "metadata": {
        "colab": {
          "base_uri": "https://localhost:8080/"
        },
        "id": "slFNBf5oxRos",
        "outputId": "de5f78d3-3147-4c0c-b936-3bf1365a0f54"
      },
      "execution_count": null,
      "outputs": [
        {
          "output_type": "stream",
          "name": "stdout",
          "text": [
            "313/313 [==============================] - 1s 4ms/step\n"
          ]
        }
      ]
    },
    {
      "cell_type": "code",
      "source": [
        "y_test"
      ],
      "metadata": {
        "colab": {
          "base_uri": "https://localhost:8080/"
        },
        "id": "G30MgggKzWFY",
        "outputId": "f2054729-f1c7-491d-c66c-f4453e1b2c6a"
      },
      "execution_count": null,
      "outputs": [
        {
          "output_type": "execute_result",
          "data": {
            "text/plain": [
              "array([[0., 0., 0., ..., 0., 0., 0.],\n",
              "       [0., 0., 0., ..., 0., 1., 0.],\n",
              "       [0., 0., 0., ..., 0., 1., 0.],\n",
              "       ...,\n",
              "       [0., 0., 0., ..., 0., 0., 0.],\n",
              "       [0., 1., 0., ..., 0., 0., 0.],\n",
              "       [0., 0., 0., ..., 1., 0., 0.]], dtype=float32)"
            ]
          },
          "metadata": {},
          "execution_count": 45
        }
      ]
    },
    {
      "cell_type": "code",
      "source": [
        "y_test=y_test.argmax(1)"
      ],
      "metadata": {
        "id": "4A3xy-sPzYMJ"
      },
      "execution_count": null,
      "outputs": []
    },
    {
      "cell_type": "code",
      "source": [
        "predicted_class=predicted_class.argmax(1)"
      ],
      "metadata": {
        "id": "1Sl7-nGPzxG9"
      },
      "execution_count": null,
      "outputs": []
    },
    {
      "cell_type": "code",
      "source": [
        "y_test"
      ],
      "metadata": {
        "colab": {
          "base_uri": "https://localhost:8080/"
        },
        "id": "7B8c6ay7zfk4",
        "outputId": "46e357b8-383e-48f2-bb23-c43912e48e91"
      },
      "execution_count": null,
      "outputs": [
        {
          "output_type": "execute_result",
          "data": {
            "text/plain": [
              "array([3, 8, 8, ..., 5, 1, 7])"
            ]
          },
          "metadata": {},
          "execution_count": 51
        }
      ]
    },
    {
      "cell_type": "code",
      "source": [
        "X_test"
      ],
      "metadata": {
        "colab": {
          "base_uri": "https://localhost:8080/"
        },
        "id": "iL37G8uh0BBy",
        "outputId": "2ef69508-32a2-4ea9-c638-0fa5bdafadd5"
      },
      "execution_count": null,
      "outputs": [
        {
          "output_type": "execute_result",
          "data": {
            "text/plain": [
              "array([[[[158., 112.,  49.],\n",
              "         [159., 111.,  47.],\n",
              "         [165., 116.,  51.],\n",
              "         ...,\n",
              "         [137.,  95.,  36.],\n",
              "         [126.,  91.,  36.],\n",
              "         [116.,  85.,  33.]],\n",
              "\n",
              "        [[152., 112.,  51.],\n",
              "         [151., 110.,  40.],\n",
              "         [159., 114.,  45.],\n",
              "         ...,\n",
              "         [136.,  95.,  31.],\n",
              "         [125.,  91.,  32.],\n",
              "         [119.,  88.,  34.]],\n",
              "\n",
              "        [[151., 110.,  47.],\n",
              "         [151., 109.,  33.],\n",
              "         [158., 111.,  36.],\n",
              "         ...,\n",
              "         [139.,  98.,  34.],\n",
              "         [130.,  95.,  34.],\n",
              "         [120.,  89.,  33.]],\n",
              "\n",
              "        ...,\n",
              "\n",
              "        [[ 68., 124., 177.],\n",
              "         [ 42., 100., 148.],\n",
              "         [ 31.,  88., 137.],\n",
              "         ...,\n",
              "         [ 38.,  97., 146.],\n",
              "         [ 13.,  64., 108.],\n",
              "         [ 40.,  85., 127.]],\n",
              "\n",
              "        [[ 61., 116., 168.],\n",
              "         [ 49., 102., 148.],\n",
              "         [ 35.,  85., 132.],\n",
              "         ...,\n",
              "         [ 26.,  82., 130.],\n",
              "         [ 29.,  82., 126.],\n",
              "         [ 20.,  64., 107.]],\n",
              "\n",
              "        [[ 54., 107., 160.],\n",
              "         [ 56., 105., 149.],\n",
              "         [ 45.,  89., 132.],\n",
              "         ...,\n",
              "         [ 24.,  77., 124.],\n",
              "         [ 34.,  84., 129.],\n",
              "         [ 21.,  67., 110.]]],\n",
              "\n",
              "\n",
              "       [[[235., 235., 235.],\n",
              "         [231., 231., 231.],\n",
              "         [232., 232., 232.],\n",
              "         ...,\n",
              "         [233., 233., 233.],\n",
              "         [233., 233., 233.],\n",
              "         [232., 232., 232.]],\n",
              "\n",
              "        [[238., 238., 238.],\n",
              "         [235., 235., 235.],\n",
              "         [235., 235., 235.],\n",
              "         ...,\n",
              "         [236., 236., 236.],\n",
              "         [236., 236., 236.],\n",
              "         [235., 235., 235.]],\n",
              "\n",
              "        [[237., 237., 237.],\n",
              "         [234., 234., 234.],\n",
              "         [234., 234., 234.],\n",
              "         ...,\n",
              "         [235., 235., 235.],\n",
              "         [235., 235., 235.],\n",
              "         [234., 234., 234.]],\n",
              "\n",
              "        ...,\n",
              "\n",
              "        [[ 87.,  99.,  89.],\n",
              "         [ 43.,  51.,  37.],\n",
              "         [ 19.,  23.,  11.],\n",
              "         ...,\n",
              "         [169., 184., 179.],\n",
              "         [182., 197., 193.],\n",
              "         [188., 202., 201.]],\n",
              "\n",
              "        [[ 82.,  96.,  82.],\n",
              "         [ 46.,  57.,  36.],\n",
              "         [ 36.,  44.,  22.],\n",
              "         ...,\n",
              "         [174., 189., 183.],\n",
              "         [185., 200., 196.],\n",
              "         [187., 202., 200.]],\n",
              "\n",
              "        [[ 85., 101.,  83.],\n",
              "         [ 62.,  75.,  48.],\n",
              "         [ 58.,  67.,  38.],\n",
              "         ...,\n",
              "         [168., 183., 178.],\n",
              "         [180., 195., 191.],\n",
              "         [186., 200., 199.]]],\n",
              "\n",
              "\n",
              "       [[[158., 190., 222.],\n",
              "         [158., 187., 218.],\n",
              "         [139., 166., 194.],\n",
              "         ...,\n",
              "         [228., 231., 234.],\n",
              "         [237., 239., 243.],\n",
              "         [238., 241., 246.]],\n",
              "\n",
              "        [[170., 200., 229.],\n",
              "         [172., 199., 226.],\n",
              "         [151., 176., 201.],\n",
              "         ...,\n",
              "         [232., 232., 236.],\n",
              "         [246., 246., 250.],\n",
              "         [246., 247., 251.]],\n",
              "\n",
              "        [[174., 201., 225.],\n",
              "         [176., 200., 222.],\n",
              "         [157., 179., 199.],\n",
              "         ...,\n",
              "         [230., 229., 232.],\n",
              "         [250., 249., 251.],\n",
              "         [245., 244., 247.]],\n",
              "\n",
              "        ...,\n",
              "\n",
              "        [[ 31.,  40.,  45.],\n",
              "         [ 30.,  39.,  44.],\n",
              "         [ 26.,  35.,  40.],\n",
              "         ...,\n",
              "         [ 37.,  40.,  46.],\n",
              "         [  9.,  13.,  14.],\n",
              "         [  4.,   7.,   5.]],\n",
              "\n",
              "        [[ 23.,  34.,  39.],\n",
              "         [ 27.,  38.,  43.],\n",
              "         [ 25.,  36.,  41.],\n",
              "         ...,\n",
              "         [ 19.,  20.,  24.],\n",
              "         [  4.,   6.,   3.],\n",
              "         [  5.,   7.,   3.]],\n",
              "\n",
              "        [[ 28.,  41.,  47.],\n",
              "         [ 30.,  43.,  50.],\n",
              "         [ 32.,  45.,  52.],\n",
              "         ...,\n",
              "         [  5.,   6.,   8.],\n",
              "         [  4.,   5.,   3.],\n",
              "         [  7.,   8.,   7.]]],\n",
              "\n",
              "\n",
              "       ...,\n",
              "\n",
              "\n",
              "       [[[ 20.,  15.,  12.],\n",
              "         [ 19.,  14.,  11.],\n",
              "         [ 15.,  14.,  11.],\n",
              "         ...,\n",
              "         [ 10.,   9.,   7.],\n",
              "         [ 12.,  11.,   9.],\n",
              "         [ 13.,  12.,  10.]],\n",
              "\n",
              "        [[ 21.,  16.,  13.],\n",
              "         [ 20.,  16.,  13.],\n",
              "         [ 18.,  17.,  12.],\n",
              "         ...,\n",
              "         [ 10.,   9.,   7.],\n",
              "         [ 10.,   9.,   7.],\n",
              "         [ 12.,  11.,   9.]],\n",
              "\n",
              "        [[ 21.,  16.,  13.],\n",
              "         [ 21.,  17.,  12.],\n",
              "         [ 20.,  18.,  11.],\n",
              "         ...,\n",
              "         [ 12.,  11.,   9.],\n",
              "         [ 12.,  11.,   9.],\n",
              "         [ 13.,  12.,  10.]],\n",
              "\n",
              "        ...,\n",
              "\n",
              "        [[ 33.,  25.,  13.],\n",
              "         [ 34.,  26.,  15.],\n",
              "         [ 34.,  26.,  15.],\n",
              "         ...,\n",
              "         [ 28.,  25.,  52.],\n",
              "         [ 29.,  25.,  58.],\n",
              "         [ 23.,  20.,  42.]],\n",
              "\n",
              "        [[ 33.,  25.,  14.],\n",
              "         [ 34.,  26.,  15.],\n",
              "         [ 34.,  26.,  15.],\n",
              "         ...,\n",
              "         [ 27.,  24.,  52.],\n",
              "         [ 27.,  24.,  56.],\n",
              "         [ 25.,  22.,  47.]],\n",
              "\n",
              "        [[ 31.,  23.,  12.],\n",
              "         [ 32.,  24.,  13.],\n",
              "         [ 33.,  25.,  14.],\n",
              "         ...,\n",
              "         [ 24.,  23.,  50.],\n",
              "         [ 26.,  23.,  53.],\n",
              "         [ 25.,  20.,  47.]]],\n",
              "\n",
              "\n",
              "       [[[ 25.,  40.,  12.],\n",
              "         [ 15.,  36.,   3.],\n",
              "         [ 23.,  41.,  18.],\n",
              "         ...,\n",
              "         [ 61.,  82.,  78.],\n",
              "         [ 92., 113., 112.],\n",
              "         [ 75.,  89.,  92.]],\n",
              "\n",
              "        [[ 12.,  25.,   6.],\n",
              "         [ 20.,  37.,   7.],\n",
              "         [ 24.,  36.,  15.],\n",
              "         ...,\n",
              "         [115., 134., 138.],\n",
              "         [149., 168., 177.],\n",
              "         [104., 117., 131.]],\n",
              "\n",
              "        [[ 12.,  25.,  11.],\n",
              "         [ 15.,  29.,   6.],\n",
              "         [ 34.,  40.,  24.],\n",
              "         ...,\n",
              "         [154., 172., 182.],\n",
              "         [157., 175., 192.],\n",
              "         [116., 129., 151.]],\n",
              "\n",
              "        ...,\n",
              "\n",
              "        [[100., 129.,  81.],\n",
              "         [103., 132.,  84.],\n",
              "         [104., 134.,  86.],\n",
              "         ...,\n",
              "         [ 97., 128.,  84.],\n",
              "         [ 98., 126.,  84.],\n",
              "         [ 91., 121.,  79.]],\n",
              "\n",
              "        [[103., 132.,  83.],\n",
              "         [104., 131.,  83.],\n",
              "         [107., 135.,  87.],\n",
              "         ...,\n",
              "         [101., 132.,  87.],\n",
              "         [ 99., 127.,  84.],\n",
              "         [ 92., 121.,  79.]],\n",
              "\n",
              "        [[ 95., 126.,  78.],\n",
              "         [ 95., 123.,  76.],\n",
              "         [101., 128.,  81.],\n",
              "         ...,\n",
              "         [ 93., 124.,  80.],\n",
              "         [ 95., 123.,  81.],\n",
              "         [ 92., 120.,  80.]]],\n",
              "\n",
              "\n",
              "       [[[ 73.,  78.,  75.],\n",
              "         [ 98., 103., 113.],\n",
              "         [ 99., 106., 114.],\n",
              "         ...,\n",
              "         [135., 150., 152.],\n",
              "         [135., 149., 154.],\n",
              "         [203., 215., 223.]],\n",
              "\n",
              "        [[ 69.,  73.,  70.],\n",
              "         [ 84.,  89.,  97.],\n",
              "         [ 68.,  75.,  81.],\n",
              "         ...,\n",
              "         [ 85.,  95.,  89.],\n",
              "         [ 71.,  82.,  80.],\n",
              "         [120., 133., 135.]],\n",
              "\n",
              "        [[ 69.,  73.,  70.],\n",
              "         [ 90.,  95., 100.],\n",
              "         [ 62.,  71.,  74.],\n",
              "         ...,\n",
              "         [ 74.,  81.,  70.],\n",
              "         [ 53.,  62.,  54.],\n",
              "         [ 62.,  74.,  69.]],\n",
              "\n",
              "        ...,\n",
              "\n",
              "        [[123., 128.,  96.],\n",
              "         [132., 132., 102.],\n",
              "         [129., 128., 100.],\n",
              "         ...,\n",
              "         [108., 107.,  88.],\n",
              "         [ 62.,  60.,  55.],\n",
              "         [ 27.,  27.,  28.]],\n",
              "\n",
              "        [[115., 121.,  91.],\n",
              "         [123., 124.,  95.],\n",
              "         [129., 126.,  99.],\n",
              "         ...,\n",
              "         [115., 116.,  94.],\n",
              "         [ 66.,  65.,  59.],\n",
              "         [ 27.,  27.,  27.]],\n",
              "\n",
              "        [[116., 120.,  90.],\n",
              "         [121., 122.,  94.],\n",
              "         [129., 128., 101.],\n",
              "         ...,\n",
              "         [116., 115.,  94.],\n",
              "         [ 68.,  65.,  58.],\n",
              "         [ 27.,  26.,  26.]]]], dtype=float32)"
            ]
          },
          "metadata": {},
          "execution_count": 53
        }
      ]
    },
    {
      "cell_type": "code",
      "source": [
        "show_random_images(7,7,X_test,y_test,predicted_class)"
      ],
      "metadata": {
        "colab": {
          "base_uri": "https://localhost:8080/",
          "height": 1000
        },
        "id": "KYGsvwIFzhKR",
        "outputId": "21d66e23-3830-4640-ff9b-3a60ba90595e"
      },
      "execution_count": null,
      "outputs": [
        {
          "output_type": "stream",
          "name": "stderr",
          "text": [
            "WARNING:matplotlib.image:Clipping input data to the valid range for imshow with RGB data ([0..1] for floats or [0..255] for integers).\n",
            "WARNING:matplotlib.image:Clipping input data to the valid range for imshow with RGB data ([0..1] for floats or [0..255] for integers).\n",
            "WARNING:matplotlib.image:Clipping input data to the valid range for imshow with RGB data ([0..1] for floats or [0..255] for integers).\n",
            "WARNING:matplotlib.image:Clipping input data to the valid range for imshow with RGB data ([0..1] for floats or [0..255] for integers).\n",
            "WARNING:matplotlib.image:Clipping input data to the valid range for imshow with RGB data ([0..1] for floats or [0..255] for integers).\n",
            "WARNING:matplotlib.image:Clipping input data to the valid range for imshow with RGB data ([0..1] for floats or [0..255] for integers).\n",
            "WARNING:matplotlib.image:Clipping input data to the valid range for imshow with RGB data ([0..1] for floats or [0..255] for integers).\n",
            "WARNING:matplotlib.image:Clipping input data to the valid range for imshow with RGB data ([0..1] for floats or [0..255] for integers).\n",
            "WARNING:matplotlib.image:Clipping input data to the valid range for imshow with RGB data ([0..1] for floats or [0..255] for integers).\n",
            "WARNING:matplotlib.image:Clipping input data to the valid range for imshow with RGB data ([0..1] for floats or [0..255] for integers).\n",
            "WARNING:matplotlib.image:Clipping input data to the valid range for imshow with RGB data ([0..1] for floats or [0..255] for integers).\n",
            "WARNING:matplotlib.image:Clipping input data to the valid range for imshow with RGB data ([0..1] for floats or [0..255] for integers).\n",
            "WARNING:matplotlib.image:Clipping input data to the valid range for imshow with RGB data ([0..1] for floats or [0..255] for integers).\n",
            "WARNING:matplotlib.image:Clipping input data to the valid range for imshow with RGB data ([0..1] for floats or [0..255] for integers).\n",
            "WARNING:matplotlib.image:Clipping input data to the valid range for imshow with RGB data ([0..1] for floats or [0..255] for integers).\n",
            "WARNING:matplotlib.image:Clipping input data to the valid range for imshow with RGB data ([0..1] for floats or [0..255] for integers).\n",
            "WARNING:matplotlib.image:Clipping input data to the valid range for imshow with RGB data ([0..1] for floats or [0..255] for integers).\n",
            "WARNING:matplotlib.image:Clipping input data to the valid range for imshow with RGB data ([0..1] for floats or [0..255] for integers).\n",
            "WARNING:matplotlib.image:Clipping input data to the valid range for imshow with RGB data ([0..1] for floats or [0..255] for integers).\n",
            "WARNING:matplotlib.image:Clipping input data to the valid range for imshow with RGB data ([0..1] for floats or [0..255] for integers).\n",
            "WARNING:matplotlib.image:Clipping input data to the valid range for imshow with RGB data ([0..1] for floats or [0..255] for integers).\n",
            "WARNING:matplotlib.image:Clipping input data to the valid range for imshow with RGB data ([0..1] for floats or [0..255] for integers).\n",
            "WARNING:matplotlib.image:Clipping input data to the valid range for imshow with RGB data ([0..1] for floats or [0..255] for integers).\n",
            "WARNING:matplotlib.image:Clipping input data to the valid range for imshow with RGB data ([0..1] for floats or [0..255] for integers).\n",
            "WARNING:matplotlib.image:Clipping input data to the valid range for imshow with RGB data ([0..1] for floats or [0..255] for integers).\n",
            "WARNING:matplotlib.image:Clipping input data to the valid range for imshow with RGB data ([0..1] for floats or [0..255] for integers).\n",
            "WARNING:matplotlib.image:Clipping input data to the valid range for imshow with RGB data ([0..1] for floats or [0..255] for integers).\n",
            "WARNING:matplotlib.image:Clipping input data to the valid range for imshow with RGB data ([0..1] for floats or [0..255] for integers).\n",
            "WARNING:matplotlib.image:Clipping input data to the valid range for imshow with RGB data ([0..1] for floats or [0..255] for integers).\n",
            "WARNING:matplotlib.image:Clipping input data to the valid range for imshow with RGB data ([0..1] for floats or [0..255] for integers).\n",
            "WARNING:matplotlib.image:Clipping input data to the valid range for imshow with RGB data ([0..1] for floats or [0..255] for integers).\n",
            "WARNING:matplotlib.image:Clipping input data to the valid range for imshow with RGB data ([0..1] for floats or [0..255] for integers).\n",
            "WARNING:matplotlib.image:Clipping input data to the valid range for imshow with RGB data ([0..1] for floats or [0..255] for integers).\n",
            "WARNING:matplotlib.image:Clipping input data to the valid range for imshow with RGB data ([0..1] for floats or [0..255] for integers).\n",
            "WARNING:matplotlib.image:Clipping input data to the valid range for imshow with RGB data ([0..1] for floats or [0..255] for integers).\n",
            "WARNING:matplotlib.image:Clipping input data to the valid range for imshow with RGB data ([0..1] for floats or [0..255] for integers).\n",
            "WARNING:matplotlib.image:Clipping input data to the valid range for imshow with RGB data ([0..1] for floats or [0..255] for integers).\n",
            "WARNING:matplotlib.image:Clipping input data to the valid range for imshow with RGB data ([0..1] for floats or [0..255] for integers).\n",
            "WARNING:matplotlib.image:Clipping input data to the valid range for imshow with RGB data ([0..1] for floats or [0..255] for integers).\n",
            "WARNING:matplotlib.image:Clipping input data to the valid range for imshow with RGB data ([0..1] for floats or [0..255] for integers).\n",
            "WARNING:matplotlib.image:Clipping input data to the valid range for imshow with RGB data ([0..1] for floats or [0..255] for integers).\n",
            "WARNING:matplotlib.image:Clipping input data to the valid range for imshow with RGB data ([0..1] for floats or [0..255] for integers).\n",
            "WARNING:matplotlib.image:Clipping input data to the valid range for imshow with RGB data ([0..1] for floats or [0..255] for integers).\n",
            "WARNING:matplotlib.image:Clipping input data to the valid range for imshow with RGB data ([0..1] for floats or [0..255] for integers).\n",
            "WARNING:matplotlib.image:Clipping input data to the valid range for imshow with RGB data ([0..1] for floats or [0..255] for integers).\n",
            "WARNING:matplotlib.image:Clipping input data to the valid range for imshow with RGB data ([0..1] for floats or [0..255] for integers).\n",
            "WARNING:matplotlib.image:Clipping input data to the valid range for imshow with RGB data ([0..1] for floats or [0..255] for integers).\n",
            "WARNING:matplotlib.image:Clipping input data to the valid range for imshow with RGB data ([0..1] for floats or [0..255] for integers).\n",
            "WARNING:matplotlib.image:Clipping input data to the valid range for imshow with RGB data ([0..1] for floats or [0..255] for integers).\n"
          ]
        },
        {
          "output_type": "display_data",
          "data": {
            "text/plain": [
              "<Figure size 1080x1080 with 49 Axes>"
            ],
            "image/png": "[encoded data removed]"
          },
          "metadata": {
            "needs_background": "light"
          }
        }
      ]
    },
    {
      "cell_type": "code",
      "source": [
        "from sklearn.metrics import confusion_matrix\n",
        "import seaborn as sns\n",
        "\n",
        "cm = confusion_matrix(predicted_class, y_test)\n",
        "cm\n",
        "plt.figure(figsize = (10, 10))\n",
        "sns.heatmap(cm, annot = True)"
      ],
      "metadata": {
        "colab": {
          "base_uri": "https://localhost:8080/",
          "height": 609
        },
        "id": "3ZgTv6hNzmxc",
        "outputId": "0d20dc6e-5f7f-4c68-dfdd-86dfe46e1ae7"
      },
      "execution_count": null,
      "outputs": [
        {
          "output_type": "execute_result",
          "data": {
            "text/plain": [
              "<matplotlib.axes._subplots.AxesSubplot at 0x7fd3c04b2d60>"
            ]
          },
          "metadata": {},
          "execution_count": 60
        },
        {
          "output_type": "display_data",
          "data": {
            "text/plain": [
              "<Figure size 720x720 with 2 Axes>"
            ],
            "image/png": "[encoded data removed]"
          },
          "metadata": {
            "needs_background": "light"
          }
        }
      ]
    },
    {
      "cell_type": "code",
      "source": [],
      "metadata": {
        "id": "WeN_HzxP1EoG"
      },
      "execution_count": null,
      "outputs": []
    }
  ]
}