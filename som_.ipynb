{
  "nbformat": 4,
  "nbformat_minor": 0,
  "metadata": {
    "colab": {
      "provenance": [],
      "authorship_tag": "ABX9TyNwkUqKHA6vv47glCxannCu",
      "include_colab_link": true
    },
    "kernelspec": {
      "name": "python3",
      "display_name": "Python 3"
    },
    "language_info": {
      "name": "python"
    }
  },
  "cells": [
    {
      "cell_type": "markdown",
      "metadata": {
        "id": "view-in-github",
        "colab_type": "text"
      },
      "source": [
        "<a href=\"https://colab.research.google.com/github/alimoradi296/DeepLearning/blob/main/som_.ipynb\" target=\"_parent\"><img src=\"https://colab.research.google.com/assets/colab-badge.svg\" alt=\"Open In Colab\"/></a>"
      ]
    },
    {
      "cell_type": "code",
      "execution_count": null,
      "metadata": {
        "colab": {
          "base_uri": "https://localhost:8080/"
        },
        "id": "nQlzMFSYb7B0",
        "outputId": "8094707d-8094-4e09-8296-71d8fd5c4474"
      },
      "outputs": [
        {
          "output_type": "stream",
          "name": "stdout",
          "text": [
            "Looking in indexes: https://pypi.org/simple, https://us-python.pkg.dev/colab-wheels/public/simple/\n",
            "Collecting MiniSom\n",
            "  Downloading MiniSom-2.3.0.tar.gz (8.8 kB)\n",
            "Building wheels for collected packages: MiniSom\n",
            "  Building wheel for MiniSom (setup.py) ... \u001b[?25l\u001b[?25hdone\n",
            "  Created wheel for MiniSom: filename=MiniSom-2.3.0-py3-none-any.whl size=9018 sha256=d324e62703521dc18d575a9651399fbf26862c8c80507f9e085ebb49eacc3ba0\n",
            "  Stored in directory: /root/.cache/pip/wheels/d4/ca/4a/488772b0399fec45ff53132ed14c948dec4b30deee3a532f80\n",
            "Successfully built MiniSom\n",
            "Installing collected packages: MiniSom\n",
            "Successfully installed MiniSom-2.3.0\n"
          ]
        }
      ],
      "source": [
        "%pip install MiniSom"
      ]
    },
    {
      "cell_type": "code",
      "source": [
        "import pandas as pd\n",
        "import numpy as np\n",
        "import matplotlib.pyplot as plt"
      ],
      "metadata": {
        "id": "aYa1ufRmczve"
      },
      "execution_count": null,
      "outputs": []
    },
    {
      "cell_type": "markdown",
      "source": [
        "import data"
      ],
      "metadata": {
        "id": "3v1Pik0hdihX"
      }
    },
    {
      "cell_type": "code",
      "source": [
        "df =pd.read_csv('sample_data/Credit_Card_Applications.csv')"
      ],
      "metadata": {
        "id": "IlbHaLppdhyO"
      },
      "execution_count": null,
      "outputs": []
    },
    {
      "cell_type": "code",
      "source": [
        "X=df.iloc[:,:-1].values\n",
        "y=df.iloc[:,-1].values"
      ],
      "metadata": {
        "id": "6511ldfWdelF"
      },
      "execution_count": null,
      "outputs": []
    },
    {
      "cell_type": "code",
      "source": [],
      "metadata": {
        "colab": {
          "base_uri": "https://localhost:8080/",
          "height": 167
        },
        "id": "5c_RXUIbdKtj",
        "outputId": "01925486-6105-405e-a043-34402289b1e7"
      },
      "execution_count": null,
      "outputs": [
        {
          "output_type": "error",
          "ename": "AttributeError",
          "evalue": "ignored",
          "traceback": [
            "\u001b[0;31m---------------------------------------------------------------------------\u001b[0m",
            "\u001b[0;31mAttributeError\u001b[0m                            Traceback (most recent call last)",
            "\u001b[0;32m<ipython-input-11-ae5cd47bda90>\u001b[0m in \u001b[0;36m<module>\u001b[0;34m\u001b[0m\n\u001b[0;32m----> 1\u001b[0;31m \u001b[0mX\u001b[0m\u001b[0;34m.\u001b[0m\u001b[0mhead\u001b[0m\u001b[0;34m(\u001b[0m\u001b[0;34m)\u001b[0m\u001b[0;34m\u001b[0m\u001b[0;34m\u001b[0m\u001b[0m\n\u001b[0m",
            "\u001b[0;31mAttributeError\u001b[0m: 'numpy.ndarray' object has no attribute 'head'"
          ]
        }
      ]
    },
    {
      "cell_type": "code",
      "source": [],
      "metadata": {
        "id": "4qJq72xzddI0"
      },
      "execution_count": null,
      "outputs": []
    },
    {
      "cell_type": "markdown",
      "source": [
        "# Normalize data\n"
      ],
      "metadata": {
        "id": "aO2QRfQgeNFi"
      }
    },
    {
      "cell_type": "markdown",
      "source": [],
      "metadata": {
        "id": "G-_BEYx-dZ_U"
      }
    },
    {
      "cell_type": "code",
      "source": [
        "from sklearn.preprocessing import MinMaxScaler\n",
        "sc=MinMaxScaler(feature_range=(0,1))"
      ],
      "metadata": {
        "id": "8ukwKgAJeU5P"
      },
      "execution_count": null,
      "outputs": []
    },
    {
      "cell_type": "code",
      "source": [
        "X=sc.fit_transform(X)"
      ],
      "metadata": {
        "id": "1RqbWGeLeo43"
      },
      "execution_count": null,
      "outputs": []
    },
    {
      "cell_type": "markdown",
      "source": [
        "#Build SOM"
      ],
      "metadata": {
        "id": "xZPSx3q5fNSl"
      }
    },
    {
      "cell_type": "code",
      "source": [
        "from minisom import MiniSom"
      ],
      "metadata": {
        "id": "n20IDOBNe9Yh"
      },
      "execution_count": null,
      "outputs": []
    },
    {
      "cell_type": "code",
      "source": [
        "som=MiniSom(x=10,y=10,input_len=15,sigma=1.0,learning_rate=0.5)\n",
        "som.random_weights_init(X)\n",
        "som.train_random(data=X,num_iteration=100)"
      ],
      "metadata": {
        "id": "NK-RlyvyfEV6"
      },
      "execution_count": null,
      "outputs": []
    },
    {
      "cell_type": "code",
      "source": [
        "from pylab import bone,pcolor,colorbar,plot,show"
      ],
      "metadata": {
        "id": "a2DjwE25hECf"
      },
      "execution_count": null,
      "outputs": []
    },
    {
      "cell_type": "code",
      "source": [
        "w1=som.winner(X[2])\n",
        "w1[1]+0.5"
      ],
      "metadata": {
        "colab": {
          "base_uri": "https://localhost:8080/"
        },
        "id": "VWcxicOR6mph",
        "outputId": "899e75c6-6251-41b2-b081-788cb02ece3d"
      },
      "execution_count": null,
      "outputs": [
        {
          "output_type": "execute_result",
          "data": {
            "text/plain": [
              "3.5"
            ]
          },
          "metadata": {},
          "execution_count": 37
        }
      ]
    },
    {
      "cell_type": "code",
      "source": [
        "bone()\n",
        "pcolor(som.distance_map().T)\n",
        "colorbar()\n",
        "markers=['o','s']\n",
        "colors=['r','g']\n",
        "for i,x in enumerate(X):\n",
        "  w=som.winner(x)\n",
        "\n",
        "  plot(w[0]+0.5,\n",
        "       w[1]+0.5,\n",
        "       markers[y[i]],\n",
        "       markeredgecolor=colors[y[i]],\n",
        "       markerfacecolor='None',\n",
        "       markersize=10,\n",
        "       markeredgewidth=2)\n",
        "show()"
      ],
      "metadata": {
        "colab": {
          "base_uri": "https://localhost:8080/",
          "height": 269
        },
        "id": "vg-iVR7O5Yud",
        "outputId": "b0d70fd9-aa02-4744-ea46-a1d97f447f7a"
      },
      "execution_count": null,
      "outputs": [
        {
          "output_type": "display_data",
          "data": {
            "text/plain": [
              "<Figure size 432x288 with 2 Axes>"
            ],
            "image/png": "[encoded data removed]"
          },
          "metadata": {
            "needs_background": "light"
          }
        }
      ]
    },
    {
      "cell_type": "code",
      "source": [
        "mappings=som.win_map(X)\n",
        "frauds= np.concatenate((mappings[(2,1)],mappings[(1,3)],mappings[(4,5)],mappings[(8,6)]),axis=0)\n",
        "frauds=sc.inverse_transform(frauds)\n"
      ],
      "metadata": {
        "id": "fifadB_Y5aVD"
      },
      "execution_count": null,
      "outputs": []
    },
    {
      "cell_type": "markdown",
      "source": [
        "\n",
        "\n",
        "```\n",
        "# This is formatted as code\n",
        "```\n",
        "\n"
      ],
      "metadata": {
        "id": "d4GVrfGeEHT0"
      }
    },
    {
      "cell_type": "code",
      "source": [],
      "metadata": {
        "colab": {
          "base_uri": "https://localhost:8080/"
        },
        "id": "c1PDciR1Crbo",
        "outputId": "5142e35b-0525-45f8-adaa-b320f679fc18"
      },
      "execution_count": null,
      "outputs": [
        {
          "output_type": "execute_result",
          "data": {
            "text/plain": [
              "array([[4.29185237e-01, 0.00000000e+00, 7.26315789e-02, 3.57142857e-01,\n",
              "        5.00000000e-01, 7.69230769e-02, 3.75000000e-01, 1.45614035e-02,\n",
              "        0.00000000e+00, 0.00000000e+00, 0.00000000e+00, 0.00000000e+00,\n",
              "        5.00000000e-01, 4.00000000e-02, 4.20000000e-04],\n",
              "       [3.44989969e-01, 0.00000000e+00, 3.75939850e-01, 5.35714286e-02,\n",
              "        5.00000000e-01, 0.00000000e+00, 0.00000000e+00, 0.00000000e+00,\n",
              "        0.00000000e+00, 0.00000000e+00, 0.00000000e+00, 0.00000000e+00,\n",
              "        5.00000000e-01, 3.80000000e-02, 0.00000000e+00],\n",
              "       [4.28156121e-01, 0.00000000e+00, 3.45864662e-01, 1.68214286e-01,\n",
              "        5.00000000e-01, 0.00000000e+00, 0.00000000e+00, 0.00000000e+00,\n",
              "        0.00000000e+00, 0.00000000e+00, 0.00000000e+00, 0.00000000e+00,\n",
              "        5.00000000e-01, 8.00000000e-02, 0.00000000e+00],\n",
              "       [1.12602061e-01, 0.00000000e+00, 3.87969925e-02, 7.50000000e-03,\n",
              "        5.00000000e-01, 3.84615385e-01, 3.75000000e-01, 4.38596491e-03,\n",
              "        0.00000000e+00, 0.00000000e+00, 0.00000000e+00, 0.00000000e+00,\n",
              "        5.00000000e-01, 1.00000000e-01, 1.00000000e-05],\n",
              "       [1.77284176e-01, 0.00000000e+00, 1.34135338e-01, 2.82142857e-02,\n",
              "        5.00000000e-01, 1.53846154e-01, 3.75000000e-01, 2.98245614e-03,\n",
              "        0.00000000e+00, 0.00000000e+00, 0.00000000e+00, 0.00000000e+00,\n",
              "        5.00000000e-01, 7.20000000e-02, 0.00000000e+00],\n",
              "       [1.76367182e-01, 0.00000000e+00, 1.05263158e-01, 3.40714286e-01,\n",
              "        5.00000000e-01, 1.53846154e-01, 3.75000000e-01, 1.40350877e-03,\n",
              "        0.00000000e+00, 0.00000000e+00, 0.00000000e+00, 0.00000000e+00,\n",
              "        5.00000000e-01, 1.00000000e-01, 1.00000000e-02],\n",
              "       [1.84071534e-01, 0.00000000e+00, 9.51879699e-02, 4.46428571e-02,\n",
              "        5.00000000e-01, 5.38461538e-01, 3.75000000e-01, 0.00000000e+00,\n",
              "        0.00000000e+00, 0.00000000e+00, 0.00000000e+00, 0.00000000e+00,\n",
              "        5.00000000e-01, 0.00000000e+00, 0.00000000e+00],\n",
              "       [1.98543221e-01, 0.00000000e+00, 6.27067669e-02, 3.64642857e-01,\n",
              "        5.00000000e-01, 0.00000000e+00, 0.00000000e+00, 0.00000000e+00,\n",
              "        0.00000000e+00, 0.00000000e+00, 0.00000000e+00, 0.00000000e+00,\n",
              "        5.00000000e-01, 0.00000000e+00, 5.00000000e-04],\n",
              "       [2.10404078e-01, 0.00000000e+00, 1.35338346e-01, 2.20178571e-01,\n",
              "        5.00000000e-01, 3.84615385e-01, 3.75000000e-01, 5.78947368e-03,\n",
              "        0.00000000e+00, 0.00000000e+00, 0.00000000e+00, 0.00000000e+00,\n",
              "        5.00000000e-01, 1.10000000e-01, 1.00000000e-02],\n",
              "       [6.02124703e-01, 0.00000000e+00, 1.27819549e-01, 4.46428571e-02,\n",
              "        0.00000000e+00, 0.00000000e+00, 0.00000000e+00, 1.14035088e-01,\n",
              "        0.00000000e+00, 0.00000000e+00, 0.00000000e+00, 0.00000000e+00,\n",
              "        5.00000000e-01, 1.40000000e-01, 0.00000000e+00],\n",
              "       [1.13102603e-01, 0.00000000e+00, 1.20300752e-01, 6.25000000e-02,\n",
              "        0.00000000e+00, 3.07692308e-01, 2.50000000e-01, 0.00000000e+00,\n",
              "        0.00000000e+00, 0.00000000e+00, 0.00000000e+00, 0.00000000e+00,\n",
              "        5.00000000e-01, 8.00000000e-02, 0.00000000e+00],\n",
              "       [2.56421961e-01, 0.00000000e+00, 1.59097744e-01, 8.92857143e-02,\n",
              "        0.00000000e+00, 1.53846154e-01, 5.00000000e-01, 1.57894737e-01,\n",
              "        0.00000000e+00, 0.00000000e+00, 0.00000000e+00, 0.00000000e+00,\n",
              "        5.00000000e-01, 1.00000000e-01, 4.56000000e-03],\n",
              "       [1.09258436e-01, 0.00000000e+00, 2.70676692e-01, 1.07142857e-01,\n",
              "        0.00000000e+00, 3.07692308e-01, 2.50000000e-01, 0.00000000e+00,\n",
              "        0.00000000e+00, 0.00000000e+00, 0.00000000e+00, 0.00000000e+00,\n",
              "        5.00000000e-01, 8.00000000e-02, 2.00000000e-04],\n",
              "       [7.47330106e-01, 0.00000000e+00, 1.10225564e-01, 1.78571429e-01,\n",
              "        0.00000000e+00, 0.00000000e+00, 0.00000000e+00, 0.00000000e+00,\n",
              "        0.00000000e+00, 0.00000000e+00, 0.00000000e+00, 0.00000000e+00,\n",
              "        5.00000000e-01, 0.00000000e+00, 0.00000000e+00],\n",
              "       [1.82978349e-01, 0.00000000e+00, 1.47819549e-01, 2.08928571e-02,\n",
              "        0.00000000e+00, 0.00000000e+00, 0.00000000e+00, 4.38596491e-03,\n",
              "        0.00000000e+00, 0.00000000e+00, 0.00000000e+00, 0.00000000e+00,\n",
              "        5.00000000e-01, 6.00000000e-02, 8.70000000e-04],\n",
              "       [2.83267061e-01, 0.00000000e+00, 5.77744361e-01, 0.00000000e+00,\n",
              "        0.00000000e+00, 0.00000000e+00, 0.00000000e+00, 0.00000000e+00,\n",
              "        0.00000000e+00, 0.00000000e+00, 0.00000000e+00, 0.00000000e+00,\n",
              "        5.00000000e-01, 0.00000000e+00, 0.00000000e+00],\n",
              "       [1.72995527e-01, 0.00000000e+00, 5.89473684e-02, 0.00000000e+00,\n",
              "        0.00000000e+00, 3.07692308e-01, 0.00000000e+00, 0.00000000e+00,\n",
              "        0.00000000e+00, 0.00000000e+00, 0.00000000e+00, 0.00000000e+00,\n",
              "        5.00000000e-01, 4.30000000e-02, 0.00000000e+00],\n",
              "       [6.96090562e-01, 0.00000000e+00, 1.34135338e-01, 2.50000000e-01,\n",
              "        5.00000000e-01, 5.38461538e-01, 3.75000000e-01, 5.78947368e-03,\n",
              "        0.00000000e+00, 0.00000000e+00, 0.00000000e+00, 0.00000000e+00,\n",
              "        5.00000000e-01, 8.00000000e-02, 0.00000000e+00],\n",
              "       [5.37082197e-01, 0.00000000e+00, 2.16842105e-01, 2.08928571e-02,\n",
              "        5.00000000e-01, 3.84615385e-01, 3.75000000e-01, 1.40350877e-03,\n",
              "        0.00000000e+00, 0.00000000e+00, 0.00000000e+00, 0.00000000e+00,\n",
              "        5.00000000e-01, 1.30000000e-01, 1.00400000e-02],\n",
              "       [9.44059360e-01, 0.00000000e+00, 1.06466165e-01, 1.78571429e-02,\n",
              "        0.00000000e+00, 6.92307692e-01, 1.25000000e-01, 3.50877193e-02,\n",
              "        0.00000000e+00, 0.00000000e+00, 0.00000000e+00, 0.00000000e+00,\n",
              "        5.00000000e-01, 1.30000000e-01, 0.00000000e+00],\n",
              "       [3.23871076e-01, 0.00000000e+00, 3.26315789e-02, 1.02678571e-01,\n",
              "        5.00000000e-01, 7.69230769e-01, 3.75000000e-01, 2.98245614e-03,\n",
              "        0.00000000e+00, 0.00000000e+00, 0.00000000e+00, 0.00000000e+00,\n",
              "        5.00000000e-01, 6.00000000e-02, 0.00000000e+00],\n",
              "       [9.14951808e-01, 0.00000000e+00, 8.76691729e-02, 2.37500000e-02,\n",
              "        5.00000000e-01, 6.15384615e-01, 3.75000000e-01, 5.84210526e-02,\n",
              "        0.00000000e+00, 0.00000000e+00, 0.00000000e+00, 0.00000000e+00,\n",
              "        5.00000000e-01, 1.10000000e-01, 5.00000000e-05],\n",
              "       [6.73906515e-01, 0.00000000e+00, 3.00751880e-02, 1.33928571e-02,\n",
              "        5.00000000e-01, 5.38461538e-01, 3.75000000e-01, 3.50877193e-02,\n",
              "        0.00000000e+00, 0.00000000e+00, 0.00000000e+00, 0.00000000e+00,\n",
              "        5.00000000e-01, 6.00000000e-02, 1.80000000e-04],\n",
              "       [7.67712200e-01, 0.00000000e+00, 1.77894737e-01, 0.00000000e+00,\n",
              "        5.00000000e-01, 5.38461538e-01, 3.75000000e-01, 0.00000000e+00,\n",
              "        0.00000000e+00, 0.00000000e+00, 0.00000000e+00, 0.00000000e+00,\n",
              "        1.00000000e+00, 9.20000000e-02, 0.00000000e+00],\n",
              "       [6.89527448e-01, 0.00000000e+00, 1.06466165e-01, 3.03571429e-01,\n",
              "        5.00000000e-01, 5.38461538e-01, 3.75000000e-01, 5.78947368e-03,\n",
              "        0.00000000e+00, 0.00000000e+00, 0.00000000e+00, 0.00000000e+00,\n",
              "        5.00000000e-01, 0.00000000e+00, 3.51000000e-03],\n",
              "       [5.82971942e-01, 0.00000000e+00, 1.34135338e-01, 1.19642857e-02,\n",
              "        5.00000000e-01, 7.69230769e-01, 3.75000000e-01, 2.63157895e-02,\n",
              "        0.00000000e+00, 0.00000000e+00, 0.00000000e+00, 0.00000000e+00,\n",
              "        0.00000000e+00, 8.00000000e-02, 0.00000000e+00],\n",
              "       [4.88425453e-01, 0.00000000e+00, 1.19097744e-01, 4.10714286e-01,\n",
              "        0.00000000e+00, 3.07692308e-01, 2.50000000e-01, 0.00000000e+00,\n",
              "        1.00000000e+00, 1.00000000e+00, 1.64179104e-01, 1.00000000e+00,\n",
              "        5.00000000e-01, 0.00000000e+00, 0.00000000e+00],\n",
              "       [2.22361039e-01, 0.00000000e+00, 7.77443609e-02, 3.30357143e-01,\n",
              "        0.00000000e+00, 5.38461538e-01, 3.75000000e-01, 3.50877193e-02,\n",
              "        1.00000000e+00, 1.00000000e+00, 5.97014925e-02, 1.00000000e+00,\n",
              "        5.00000000e-01, 4.00000000e-02, 5.00000000e-03]])"
            ]
          },
          "metadata": {},
          "execution_count": 53
        }
      ]
    },
    {
      "cell_type": "code",
      "source": [],
      "metadata": {
        "id": "tkBTXh9kD9Kw"
      },
      "execution_count": null,
      "outputs": []
    }
  ]
}